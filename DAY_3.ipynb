{
  "nbformat": 4,
  "nbformat_minor": 0,
  "metadata": {
    "colab": {
      "name": "DAY 3.ipynb",
      "provenance": [],
      "collapsed_sections": [],
      "authorship_tag": "ABX9TyNefsqu7YLdh5QN5Q3kPyh4",
      "include_colab_link": true
    },
    "kernelspec": {
      "name": "python3",
      "display_name": "Python 3"
    },
    "language_info": {
      "name": "python"
    }
  },
  "cells": [
    {
      "cell_type": "markdown",
      "metadata": {
        "id": "view-in-github",
        "colab_type": "text"
      },
      "source": [
        "<a href=\"https://colab.research.google.com/github/pavanreddy0829/Hosting/blob/main/DAY_3.ipynb\" target=\"_parent\"><img src=\"https://colab.research.google.com/assets/colab-badge.svg\" alt=\"Open In Colab\"/></a>"
      ]
    },
    {
      "cell_type": "markdown",
      "metadata": {
        "id": "VdcX-feeh7YW"
      },
      "source": [
        "TASK 2"
      ]
    },
    {
      "cell_type": "code",
      "metadata": {
        "id": "7vpRwu-PgewP"
      },
      "source": [
        "#1. Is a list mutable? \n",
        "#yes.list data structure is a ordered and mutable"
      ],
      "execution_count": null,
      "outputs": []
    },
    {
      "cell_type": "code",
      "metadata": {
        "colab": {
          "base_uri": "https://localhost:8080/"
        },
        "id": "J6Xh2gnvigi0",
        "outputId": "b05ecbc6-41be-4ec0-8f4b-b500c0fefe28"
      },
      "source": [
        "l=[1,2,3,4]\n",
        "print(l)\n",
        "l[2]=10\n",
        "print(l)"
      ],
      "execution_count": null,
      "outputs": [
        {
          "output_type": "stream",
          "text": [
            "[1, 2, 3, 4]\n",
            "[1, 2, 10, 4]\n"
          ],
          "name": "stdout"
        }
      ]
    },
    {
      "cell_type": "code",
      "metadata": {
        "id": "Yt3NB0zbi05j"
      },
      "source": [
        "#2. Does a list need to be homogeneous?\n",
        "#list is a heterogenous one.it can be both homogenous and heterogenous"
      ],
      "execution_count": null,
      "outputs": []
    },
    {
      "cell_type": "code",
      "metadata": {
        "colab": {
          "base_uri": "https://localhost:8080/"
        },
        "id": "4vVhJYj5jMMm",
        "outputId": "c5e4a97c-6b35-4319-fdf6-02e051536e2b"
      },
      "source": [
        "l=[1,2,3,4]\n",
        "print(\"list is homogenous \")\n",
        "print(l)\n",
        "l=[1,'Goeduhub',{1,2,3},{1:1,2:4},(1,2,3)]\n",
        "print(\"list can hold different data structures\")\n",
        "print(l)"
      ],
      "execution_count": null,
      "outputs": [
        {
          "output_type": "stream",
          "text": [
            "list is homogenous \n",
            "[1, 2, 3, 4]\n",
            "list can hold different data structures\n",
            "[1, 'Goeduhub', {1, 2, 3}, {1: 1, 2: 4}, (1, 2, 3)]\n"
          ],
          "name": "stdout"
        }
      ]
    },
    {
      "cell_type": "code",
      "metadata": {
        "id": "Dws_C4DVjfX3"
      },
      "source": [
        "#3. What is the difference between a list and a tuple.\n",
        "#list is mutable and tuple is immutable"
      ],
      "execution_count": null,
      "outputs": []
    },
    {
      "cell_type": "code",
      "metadata": {
        "colab": {
          "base_uri": "https://localhost:8080/",
          "height": 262
        },
        "id": "8tlohMUGj42l",
        "outputId": "f00771f7-95e3-4b62-b09d-1790f03cdd9d"
      },
      "source": [
        "l=[1,2,3]\n",
        "print(l)\n",
        "l[1]=10\n",
        "print(l)\n",
        "#now tuple\n",
        "l1=(1,2,3)\n",
        "print(l1)\n",
        "l1[1]=10\n",
        "print(l1)"
      ],
      "execution_count": null,
      "outputs": [
        {
          "output_type": "stream",
          "text": [
            "[1, 2, 3]\n",
            "[1, 10, 3]\n",
            "(1, 2, 3)\n"
          ],
          "name": "stdout"
        },
        {
          "output_type": "error",
          "ename": "TypeError",
          "evalue": "ignored",
          "traceback": [
            "\u001b[0;31m---------------------------------------------------------------------------\u001b[0m",
            "\u001b[0;31mTypeError\u001b[0m                                 Traceback (most recent call last)",
            "\u001b[0;32m<ipython-input-8-16c0dfc1841f>\u001b[0m in \u001b[0;36m<module>\u001b[0;34m()\u001b[0m\n\u001b[1;32m      6\u001b[0m \u001b[0ml1\u001b[0m\u001b[0;34m=\u001b[0m\u001b[0;34m(\u001b[0m\u001b[0;36m1\u001b[0m\u001b[0;34m,\u001b[0m\u001b[0;36m2\u001b[0m\u001b[0;34m,\u001b[0m\u001b[0;36m3\u001b[0m\u001b[0;34m)\u001b[0m\u001b[0;34m\u001b[0m\u001b[0;34m\u001b[0m\u001b[0m\n\u001b[1;32m      7\u001b[0m \u001b[0mprint\u001b[0m\u001b[0;34m(\u001b[0m\u001b[0ml1\u001b[0m\u001b[0;34m)\u001b[0m\u001b[0;34m\u001b[0m\u001b[0;34m\u001b[0m\u001b[0m\n\u001b[0;32m----> 8\u001b[0;31m \u001b[0ml1\u001b[0m\u001b[0;34m[\u001b[0m\u001b[0;36m1\u001b[0m\u001b[0;34m]\u001b[0m\u001b[0;34m=\u001b[0m\u001b[0;36m10\u001b[0m\u001b[0;34m\u001b[0m\u001b[0;34m\u001b[0m\u001b[0m\n\u001b[0m\u001b[1;32m      9\u001b[0m \u001b[0mprint\u001b[0m\u001b[0;34m(\u001b[0m\u001b[0ml1\u001b[0m\u001b[0;34m)\u001b[0m\u001b[0;34m\u001b[0m\u001b[0;34m\u001b[0m\u001b[0m\n",
            "\u001b[0;31mTypeError\u001b[0m: 'tuple' object does not support item assignment"
          ]
        }
      ]
    },
    {
      "cell_type": "code",
      "metadata": {
        "id": "UHL97rf1kFf1"
      },
      "source": [
        "#4. How to find the number of elements in the list?\n",
        "# using len() function we can find number of elements in a list"
      ],
      "execution_count": null,
      "outputs": []
    },
    {
      "cell_type": "code",
      "metadata": {
        "colab": {
          "base_uri": "https://localhost:8080/"
        },
        "id": "kHG835w-kVgA",
        "outputId": "4db31653-7aa1-48e3-dd73-3ad8473356cf"
      },
      "source": [
        "l=[1,2,3,4]\n",
        "length = len(l)\n",
        "print(length)"
      ],
      "execution_count": null,
      "outputs": [
        {
          "output_type": "stream",
          "text": [
            "4\n"
          ],
          "name": "stdout"
        }
      ]
    },
    {
      "cell_type": "code",
      "metadata": {
        "id": "Mz_16A_JkaSP"
      },
      "source": [
        "#5. How to check whether the list is empty or not?\n",
        "# by using len() function we can find number of elements in a list if it returns 0 then list is empty"
      ],
      "execution_count": null,
      "outputs": []
    },
    {
      "cell_type": "code",
      "metadata": {
        "colab": {
          "base_uri": "https://localhost:8080/"
        },
        "id": "kzH061PokpV8",
        "outputId": "85dac738-cf64-45c3-e4e8-1a2d085de7ca"
      },
      "source": [
        "l=[]\n",
        "length= len(l)\n",
        "if(length==0):\n",
        "  print(\"list is empty\")\n",
        "else:\n",
        "  print(\"list is not empty\")"
      ],
      "execution_count": null,
      "outputs": [
        {
          "output_type": "stream",
          "text": [
            "list is empty\n"
          ],
          "name": "stdout"
        }
      ]
    },
    {
      "cell_type": "code",
      "metadata": {
        "id": "yG40gfBsk0k3"
      },
      "source": [
        "#6. How to find the first and last element of the list?\n",
        "#using slicing we can find first element and last element in a list"
      ],
      "execution_count": null,
      "outputs": []
    },
    {
      "cell_type": "code",
      "metadata": {
        "colab": {
          "base_uri": "https://localhost:8080/"
        },
        "id": "aXHZCNSdlTcl",
        "outputId": "09b3b5e1-3987-4bad-c2c4-f4bb1377a715"
      },
      "source": [
        "l=['a','b','c']\n",
        "print(l[0])\n",
        "print(l[-1])"
      ],
      "execution_count": null,
      "outputs": [
        {
          "output_type": "stream",
          "text": [
            "a\n",
            "c\n"
          ],
          "name": "stdout"
        }
      ]
    },
    {
      "cell_type": "code",
      "metadata": {
        "id": "BqjV7zurlX_e"
      },
      "source": [
        "#7. How to find the largest and lowest value in the list?\n",
        "# using max and mix functions we can find max and min elements in a list"
      ],
      "execution_count": null,
      "outputs": []
    },
    {
      "cell_type": "code",
      "metadata": {
        "colab": {
          "base_uri": "https://localhost:8080/"
        },
        "id": "4ofRoFmcllD3",
        "outputId": "98f3866d-d3e2-42c4-f670-09eb55f0cc8e"
      },
      "source": [
        "l=[-1,2,10,-2,100]\n",
        "print(max(l))\n",
        "print(min(l))"
      ],
      "execution_count": null,
      "outputs": [
        {
          "output_type": "stream",
          "text": [
            "100\n",
            "-2\n"
          ],
          "name": "stdout"
        }
      ]
    },
    {
      "cell_type": "code",
      "metadata": {
        "id": "b-ke3mXjlrew"
      },
      "source": [
        "#8. How to access elements of the list?\n",
        "# using slicing operator we acces elements in a list"
      ],
      "execution_count": null,
      "outputs": []
    },
    {
      "cell_type": "code",
      "metadata": {
        "colab": {
          "base_uri": "https://localhost:8080/"
        },
        "id": "MoCyvng4lzqT",
        "outputId": "b2f586fd-781f-4d01-9f19-c96d08993f54"
      },
      "source": [
        "l=[1,2,3,4]\n",
        "print(l[0])\n",
        "print(l[1])\n",
        "print(l[2])"
      ],
      "execution_count": null,
      "outputs": [
        {
          "output_type": "stream",
          "text": [
            "1\n",
            "2\n",
            "3\n"
          ],
          "name": "stdout"
        }
      ]
    },
    {
      "cell_type": "code",
      "metadata": {
        "id": "klCUwPWcl4v9"
      },
      "source": [
        "#9. How to access elements of the list?\n",
        "#using pop() we can remove certain elements in a list"
      ],
      "execution_count": null,
      "outputs": []
    },
    {
      "cell_type": "code",
      "metadata": {
        "colab": {
          "base_uri": "https://localhost:8080/"
        },
        "id": "VNaS0iP9mFgE",
        "outputId": "67ae012e-7fb3-4dbb-9cb4-56c9b9982307"
      },
      "source": [
        "l=[1,2,3,4]\n",
        "print(l)\n",
        "l.pop(-1)\n",
        "print(l)"
      ],
      "execution_count": null,
      "outputs": [
        {
          "output_type": "stream",
          "text": [
            "[1, 2, 3, 4]\n",
            "[1, 2, 3]\n"
          ],
          "name": "stdout"
        }
      ]
    },
    {
      "cell_type": "code",
      "metadata": {
        "id": "SfrZBF5kmLMB",
        "colab": {
          "base_uri": "https://localhost:8080/"
        },
        "outputId": "304712d6-dd92-4757-9f5d-b11920407c05"
      },
      "source": [
        "#Remove elements in a list between 2 indices\n",
        "l=[1,2,3,4]\n",
        "for i in l:\n",
        "  if i%2==0:\n",
        "    l.remove(i)\n",
        "print(l)"
      ],
      "execution_count": 2,
      "outputs": [
        {
          "output_type": "stream",
          "text": [
            "[1, 3]\n"
          ],
          "name": "stdout"
        }
      ]
    },
    {
      "cell_type": "code",
      "metadata": {
        "id": "1ccYX0z6drhe"
      },
      "source": [
        "#Return every 2nd element in a list between 2 indices\n"
      ],
      "execution_count": null,
      "outputs": []
    },
    {
      "cell_type": "code",
      "metadata": {
        "colab": {
          "base_uri": "https://localhost:8080/"
        },
        "id": "8OVnEf54eeqK",
        "outputId": "05cec814-8460-426d-fdde-ad009014884d"
      },
      "source": [
        "#Get the first element from each nested list in a list\n",
        "l=[[1,2,3],[4,5,6],[7,8,9]]\n",
        "for i in l:\n",
        "  print(i[0])"
      ],
      "execution_count": 3,
      "outputs": [
        {
          "output_type": "stream",
          "text": [
            "1\n",
            "4\n",
            "7\n"
          ],
          "name": "stdout"
        }
      ]
    },
    {
      "cell_type": "code",
      "metadata": {
        "colab": {
          "base_uri": "https://localhost:8080/"
        },
        "id": "ujie_xECepOQ",
        "outputId": "3bf99436-6d4c-4e5e-c4aa-893a0d59523b"
      },
      "source": [
        "#How to modify elements of the list?\n",
        "l=[1,2,3,4]\n",
        "print(l)\n",
        "l.append(10)\n",
        "l[2]=1\n",
        "l[0]=20\n",
        "print(l)"
      ],
      "execution_count": 4,
      "outputs": [
        {
          "output_type": "stream",
          "text": [
            "[1, 2, 3, 4]\n",
            "[20, 2, 1, 4, 10]\n"
          ],
          "name": "stdout"
        }
      ]
    },
    {
      "cell_type": "code",
      "metadata": {
        "colab": {
          "base_uri": "https://localhost:8080/"
        },
        "id": "ssyAWQYxe1iY",
        "outputId": "703161ca-a8f1-44d5-cd82-2a316d2c5a40"
      },
      "source": [
        "#How to concatenate two lists?\n",
        "l=[1,2,3,4]\n",
        "l2=[7,8,9,10]\n",
        "l3=l+l2\n",
        "print(l3)"
      ],
      "execution_count": 5,
      "outputs": [
        {
          "output_type": "stream",
          "text": [
            "[1, 2, 3, 4, 7, 8, 9, 10]\n"
          ],
          "name": "stdout"
        }
      ]
    },
    {
      "cell_type": "code",
      "metadata": {
        "colab": {
          "base_uri": "https://localhost:8080/"
        },
        "id": "UlbFtVJMe-Ai",
        "outputId": "0fe7f1c8-3eff-47d4-b684-a6c332c5214d"
      },
      "source": [
        "#How to add two lists element-wise in python?\n",
        "l=[1,2,3,4]\n",
        "l2=[5,6,7,8]\n",
        "sum=[]\n",
        "for i,j in zip(l,l2):\n",
        "  sum.append(i+j)\n",
        "print(sum)"
      ],
      "execution_count": 7,
      "outputs": [
        {
          "output_type": "stream",
          "text": [
            "[6, 8, 10, 12]\n"
          ],
          "name": "stdout"
        }
      ]
    },
    {
      "cell_type": "code",
      "metadata": {
        "colab": {
          "base_uri": "https://localhost:8080/",
          "height": 195
        },
        "id": "5sl6W2VhfU0y",
        "outputId": "26e8ab84-5834-4006-fb63-3ab60280ced5"
      },
      "source": [
        "#Difference between del and clear?\n",
        "'''del will delete the entire element or a specific element in a list\n",
        "where as clear will only empty the list'''\n",
        "l=[1,2,3,4]\n",
        "del l\n",
        "print(l)"
      ],
      "execution_count": 9,
      "outputs": [
        {
          "output_type": "error",
          "ename": "NameError",
          "evalue": "ignored",
          "traceback": [
            "\u001b[0;31m---------------------------------------------------------------------------\u001b[0m",
            "\u001b[0;31mNameError\u001b[0m                                 Traceback (most recent call last)",
            "\u001b[0;32m<ipython-input-9-d4d6e968599c>\u001b[0m in \u001b[0;36m<module>\u001b[0;34m()\u001b[0m\n\u001b[1;32m      4\u001b[0m \u001b[0ml\u001b[0m\u001b[0;34m=\u001b[0m\u001b[0;34m[\u001b[0m\u001b[0;36m1\u001b[0m\u001b[0;34m,\u001b[0m\u001b[0;36m2\u001b[0m\u001b[0;34m,\u001b[0m\u001b[0;36m3\u001b[0m\u001b[0;34m,\u001b[0m\u001b[0;36m4\u001b[0m\u001b[0;34m]\u001b[0m\u001b[0;34m\u001b[0m\u001b[0;34m\u001b[0m\u001b[0m\n\u001b[1;32m      5\u001b[0m \u001b[0;32mdel\u001b[0m \u001b[0ml\u001b[0m\u001b[0;34m\u001b[0m\u001b[0;34m\u001b[0m\u001b[0m\n\u001b[0;32m----> 6\u001b[0;31m \u001b[0mprint\u001b[0m\u001b[0;34m(\u001b[0m\u001b[0ml\u001b[0m\u001b[0;34m)\u001b[0m\u001b[0;34m\u001b[0m\u001b[0;34m\u001b[0m\u001b[0m\n\u001b[0m",
            "\u001b[0;31mNameError\u001b[0m: name 'l' is not defined"
          ]
        }
      ]
    },
    {
      "cell_type": "code",
      "metadata": {
        "colab": {
          "base_uri": "https://localhost:8080/"
        },
        "id": "L3d93wZzfqsY",
        "outputId": "edb5aa72-80fc-4358-9b29-88aeb0592193"
      },
      "source": [
        "l=[1,2]\n",
        "l.clear()\n",
        "print(l)"
      ],
      "execution_count": 10,
      "outputs": [
        {
          "output_type": "stream",
          "text": [
            "[]\n"
          ],
          "name": "stdout"
        }
      ]
    },
    {
      "cell_type": "code",
      "metadata": {
        "colab": {
          "base_uri": "https://localhost:8080/"
        },
        "id": "i2ixZsRSf27B",
        "outputId": "5f31f3ab-a580-46cd-9810-df796d50012e"
      },
      "source": [
        "#Difference between remove and pop?\n",
        "''' remove will remove a element in a list if element found otherwise it raises an exception\n",
        "where as pop will remove the element and return the value'''\n",
        "l=[1,2,3,4]\n",
        "l.pop()\n",
        "print(l)"
      ],
      "execution_count": 11,
      "outputs": [
        {
          "output_type": "stream",
          "text": [
            "[1, 2, 3]\n"
          ],
          "name": "stdout"
        }
      ]
    },
    {
      "cell_type": "code",
      "metadata": {
        "colab": {
          "base_uri": "https://localhost:8080/"
        },
        "id": "Mu9pc-NSgRlc",
        "outputId": "16c070a9-5655-4950-af89-89afa0d93b13"
      },
      "source": [
        "l=[1,2,3,4]\n",
        "l.remove(2)\n",
        "print(l)"
      ],
      "execution_count": 12,
      "outputs": [
        {
          "output_type": "stream",
          "text": [
            "[1, 3, 4]\n"
          ],
          "name": "stdout"
        }
      ]
    },
    {
      "cell_type": "code",
      "metadata": {
        "colab": {
          "base_uri": "https://localhost:8080/"
        },
        "id": "Rtn4UiKOgVsd",
        "outputId": "badfb0f4-70b1-4cfa-895e-b27bce5f9a88"
      },
      "source": [
        "#Difference between append and extend?\n",
        "l=[1,2,3,4]\n",
        "l2=[1,2]\n",
        "l3=[]\n",
        "l3.append(l2)\n",
        "l3.extend(l)\n",
        "print(l3)"
      ],
      "execution_count": 14,
      "outputs": [
        {
          "output_type": "stream",
          "text": [
            "[[1, 2], 1, 2, 3, 4]\n"
          ],
          "name": "stdout"
        }
      ]
    },
    {
      "cell_type": "code",
      "metadata": {
        "colab": {
          "base_uri": "https://localhost:8080/"
        },
        "id": "2L59g9tNgiNi",
        "outputId": "f9346610-586a-471b-9a42-c2257378ead4"
      },
      "source": [
        "#Difference between indexing and Slicing?\n",
        "#indexing will give acces to a particular element where as in scling we can access multiple elements at a time\n",
        "l=[1,2,3,4]\n",
        "print(l[0])\n",
        "print(l[:])"
      ],
      "execution_count": 15,
      "outputs": [
        {
          "output_type": "stream",
          "text": [
            "1\n",
            "[1, 2, 3, 4]\n"
          ],
          "name": "stdout"
        }
      ]
    },
    {
      "cell_type": "code",
      "metadata": {
        "colab": {
          "base_uri": "https://localhost:8080/"
        },
        "id": "7-QHIieGg2Ai",
        "outputId": "5d2c1c6c-8d1f-4908-dd16-8f52bc8f1170"
      },
      "source": [
        "#Difference between sort and sorted?\n",
        "#sort\n",
        "l=[-11,10,3,56,0,17,1,2]\n",
        "print(l)\n",
        "l.sort()\n",
        "print(l)\n",
        "#sort doesnot return any list\n",
        "#sorted\n",
        "l2=sorted(l)\n",
        "print(l2)\n",
        "#sorted will return the sorted list"
      ],
      "execution_count": 17,
      "outputs": [
        {
          "output_type": "stream",
          "text": [
            "[-11, 10, 3, 56, 0, 17, 1, 2]\n",
            "[-11, 0, 1, 2, 3, 10, 17, 56]\n",
            "[-11, 0, 1, 2, 3, 10, 17, 56]\n"
          ],
          "name": "stdout"
        }
      ]
    },
    {
      "cell_type": "code",
      "metadata": {
        "colab": {
          "base_uri": "https://localhost:8080/"
        },
        "id": "7x6R-CH5hAvR",
        "outputId": "6a1d0c07-0b5a-46c3-90da-0c6def0e5ac0"
      },
      "source": [
        "#Difference between reverse and reversed?\n",
        "#reverse\n",
        "l=[-11,10,3,56,0,17,1,2]\n",
        "print(l)\n",
        "l.reverse()\n",
        "print(l)\n",
        "#reversed\n",
        "#returns a iterable address and it is converted into list\n",
        "l2=list(reversed(l))\n",
        "print(l2)"
      ],
      "execution_count": 22,
      "outputs": [
        {
          "output_type": "stream",
          "text": [
            "[-11, 10, 3, 56, 0, 17, 1, 2]\n",
            "[2, 1, 17, 0, 56, 3, 10, -11]\n",
            "[-11, 10, 3, 56, 0, 17, 1, 2]\n"
          ],
          "name": "stdout"
        }
      ]
    },
    {
      "cell_type": "code",
      "metadata": {
        "colab": {
          "base_uri": "https://localhost:8080/",
          "height": 52
        },
        "id": "k8QBaHGYha_M",
        "outputId": "7fd792df-6a98-4bf6-86ff-99bc95a06ab9"
      },
      "source": [
        "#Difference between copy and deepcopy?\n",
        "'''\n",
        "The deepcopy() function avoids these problems by:\n",
        "\n",
        "keeping a memo dictionary of objects already copied during the current copying pass; and\n",
        "\n",
        "letting user-defined classes override the copying operation or the set of components copied.'''\n"
      ],
      "execution_count": 23,
      "outputs": [
        {
          "output_type": "execute_result",
          "data": {
            "application/vnd.google.colaboratory.intrinsic+json": {
              "type": "string"
            },
            "text/plain": [
              "'\\nThe deepcopy() function avoids these problems by:\\n\\nkeeping a memo dictionary of objects already copied during the current copying pass; and\\n\\nletting user-defined classes override the copying operation or the set of components copied.'"
            ]
          },
          "metadata": {
            "tags": []
          },
          "execution_count": 23
        }
      ]
    },
    {
      "cell_type": "code",
      "metadata": {
        "colab": {
          "base_uri": "https://localhost:8080/"
        },
        "id": "PatZuPgLjCM5",
        "outputId": "926b34cb-5cc0-406e-a5c1-f5497ee65e66"
      },
      "source": [
        "#How to remove duplicate elements in the list?\n",
        "'''applying set to given list we can remove duplicates'''\n",
        "l=[1,2,2,2,2,2,2,2,2,3]\n",
        "l=list(set(l))\n",
        "print(l)"
      ],
      "execution_count": 24,
      "outputs": [
        {
          "output_type": "stream",
          "text": [
            "[1, 2, 3]\n"
          ],
          "name": "stdout"
        }
      ]
    },
    {
      "cell_type": "code",
      "metadata": {
        "colab": {
          "base_uri": "https://localhost:8080/"
        },
        "id": "sWp0SVAgjVd3",
        "outputId": "dea970b5-d4ab-415a-9f8f-326a317bcc94"
      },
      "source": [
        "#How to find an index of an element in the python list?\n",
        "''' using index method'''\n",
        "l=[1,2,3,3]\n",
        "print(l.index(2))"
      ],
      "execution_count": 25,
      "outputs": [
        {
          "output_type": "stream",
          "text": [
            "1\n"
          ],
          "name": "stdout"
        }
      ]
    },
    {
      "cell_type": "code",
      "metadata": {
        "colab": {
          "base_uri": "https://localhost:8080/"
        },
        "id": "3Cm8paLmjg-i",
        "outputId": "fb34092c-5083-4a97-960a-3cf7ca2e8938"
      },
      "source": [
        "#How to find the occurrences of an element in the python list?\n",
        "'''using index method only it returns the first occurance of the list elements'''\n",
        "l=[1,2,2,3,4,5]\n",
        "a=l.index(2)\n",
        "print(a)"
      ],
      "execution_count": 26,
      "outputs": [
        {
          "output_type": "stream",
          "text": [
            "1\n"
          ],
          "name": "stdout"
        }
      ]
    },
    {
      "cell_type": "code",
      "metadata": {
        "colab": {
          "base_uri": "https://localhost:8080/"
        },
        "id": "ynpuIGopj28D",
        "outputId": "4063f587-e423-49bd-89d2-13aeff41fce8"
      },
      "source": [
        "l=[1,2,2,3,4,5]\n",
        "a=l.index(2,2)#specified the starting index to find\n",
        "print(a)"
      ],
      "execution_count": 27,
      "outputs": [
        {
          "output_type": "stream",
          "text": [
            "2\n"
          ],
          "name": "stdout"
        }
      ]
    },
    {
      "cell_type": "code",
      "metadata": {
        "colab": {
          "base_uri": "https://localhost:8080/"
        },
        "id": "Konblw7pj67v",
        "outputId": "76e639ed-371a-48b6-a444-bd099d104585"
      },
      "source": [
        "#How to insert an item at a given position?\n",
        "'''using the insert method'''\n",
        "l=[1,2,3,4]\n",
        "l.insert(2,'sparta')\n",
        "print(l)"
      ],
      "execution_count": 29,
      "outputs": [
        {
          "output_type": "stream",
          "text": [
            "[1, 2, 'sparta', 3, 4]\n"
          ],
          "name": "stdout"
        }
      ]
    },
    {
      "cell_type": "code",
      "metadata": {
        "colab": {
          "base_uri": "https://localhost:8080/"
        },
        "id": "qP78ypXBkRsL",
        "outputId": "c430d7f0-6f04-49c1-86b7-8d2d60fc2c71"
      },
      "source": [
        "#How to check if an item is in the list?\n",
        "#using in operator\n",
        "l=[1,2,3,4]\n",
        "if 1 in l:\n",
        "  print(True)\n",
        "else:\n",
        "  print(False)"
      ],
      "execution_count": 30,
      "outputs": [
        {
          "output_type": "stream",
          "text": [
            "True\n"
          ],
          "name": "stdout"
        }
      ]
    },
    {
      "cell_type": "code",
      "metadata": {
        "colab": {
          "base_uri": "https://localhost:8080/"
        },
        "id": "uJGe445HkhlP",
        "outputId": "df06ec86-8b87-442c-e4ea-6d962ab950d2"
      },
      "source": [
        "#How to flatten a list in python?\n",
        "'''\n",
        "Flattening a list of lists entails converting a 2D list into a 1D list\n",
        " by un-nesting each list item stored in the list of lists - i.e., \n",
        " converting [[1, 2, 3], [4, 5, 6], [7, 8, 9]] into [1, 2, 3, 4, 5, 6, 7, 8, 9].'''\n",
        "\n",
        "\n",
        "def flatten_list(_2d_list):\n",
        "  flat_list = []\n",
        "  # Iterate through the outer list\n",
        "  for element in _2d_list:\n",
        "    if type(element) is list:\n",
        "      # If the element is of type list, iterate through the sublist\n",
        "      for item in element:\n",
        "        flat_list.append(item)\n",
        "  return flat_list\n",
        "\n",
        "nested_list = [[1, 2, 3, 4], [5, 6, 7], [8, 9, 10]]\n",
        "print('Original List', nested_list)\n",
        "print('Transformed Flat List', flatten_list(nested_list))\n"
      ],
      "execution_count": 33,
      "outputs": [
        {
          "output_type": "stream",
          "text": [
            "Original List [[1, 2, 3, 4], [5, 6, 7], [8, 9, 10]]\n",
            "Transformed Flat List [1, 2, 3, 4, 5, 6, 7, 8, 9, 10]\n"
          ],
          "name": "stdout"
        }
      ]
    },
    {
      "cell_type": "code",
      "metadata": {
        "colab": {
          "base_uri": "https://localhost:8080/"
        },
        "id": "Lk2An1XXlTsV",
        "outputId": "b63f25a7-79d8-4670-e93f-810820aea76f"
      },
      "source": [
        "#How to convert python list to other data structures like set, tuple, dictionary?\n",
        "l=[1,2,3,4]\n",
        "print(l)\n",
        "#set\n",
        "l1=set(l)\n",
        "print(l1)\n",
        "#tuple\n",
        "l2=tuple(l)\n",
        "print(l2)\n",
        "#dict\n",
        "l=[1,2,3]\n",
        "l2=[1,4,9]\n",
        "z=dict(zip(l,l2))\n",
        "print(z)"
      ],
      "execution_count": 36,
      "outputs": [
        {
          "output_type": "stream",
          "text": [
            "[1, 2, 3, 4]\n",
            "{1, 2, 3, 4}\n",
            "(1, 2, 3, 4)\n",
            "{1: 1, 2: 4, 3: 9}\n"
          ],
          "name": "stdout"
        }
      ]
    },
    {
      "cell_type": "code",
      "metadata": {
        "colab": {
          "base_uri": "https://localhost:8080/",
          "height": 35
        },
        "id": "kPQM5j2gl39i",
        "outputId": "3bdafe92-de32-47dc-b7a6-0aa627f1cba3"
      },
      "source": [
        "#How to apply a function to all items in the list?\n",
        "'''using map filter functions we apply function to all elements'''"
      ],
      "execution_count": 37,
      "outputs": [
        {
          "output_type": "execute_result",
          "data": {
            "application/vnd.google.colaboratory.intrinsic+json": {
              "type": "string"
            },
            "text/plain": [
              "'using map filter functions we apply function to all elements'"
            ]
          },
          "metadata": {
            "tags": []
          },
          "execution_count": 37
        }
      ]
    },
    {
      "cell_type": "code",
      "metadata": {
        "colab": {
          "base_uri": "https://localhost:8080/"
        },
        "id": "2mi9C_Ipm3qR",
        "outputId": "7c364004-aa1d-4bd8-8ae0-5c1ced0f568e"
      },
      "source": [
        "#How to filter the elements based on a function in a python list?\n",
        "'''\n",
        "Python has a built-in function called filter() that allows you to filter a list (or a tuple) in a more beautiful way.\n",
        "'''\n",
        "scores = [70, 60, 80, 90, 50]\n",
        "filtered = filter(lambda score: score >= 70, scores)\n",
        "\n",
        "print(list(filtered))"
      ],
      "execution_count": 38,
      "outputs": [
        {
          "output_type": "stream",
          "text": [
            "[70, 80, 90]\n"
          ],
          "name": "stdout"
        }
      ]
    },
    {
      "cell_type": "code",
      "metadata": {
        "colab": {
          "base_uri": "https://localhost:8080/",
          "height": 52
        },
        "id": "F7g_RnLSnClO",
        "outputId": "542debce-0dbc-42fe-a705-afde8181150d"
      },
      "source": [
        "#How python lists are stored in memory?\n",
        "'''\n",
        "Instead of storing values in the memory space reserved by the variable,\n",
        " Python has the variable refer to the value. Similar to pointers in C, \n",
        " variables in Python refer to values (or objects) stored somewhere in memory. \n",
        " ... Python keeps an internal counter on how many references an object has.\n",
        "'''"
      ],
      "execution_count": 39,
      "outputs": [
        {
          "output_type": "execute_result",
          "data": {
            "application/vnd.google.colaboratory.intrinsic+json": {
              "type": "string"
            },
            "text/plain": [
              "'\\nInstead of storing values in the memory space reserved by the variable,\\n Python has the variable refer to the value. Similar to pointers in C, \\n variables in Python refer to values (or objects) stored somewhere in memory. \\n ... Python keeps an internal counter on how many references an object has.\\n'"
            ]
          },
          "metadata": {
            "tags": []
          },
          "execution_count": 39
        }
      ]
    },
    {
      "cell_type": "code",
      "metadata": {
        "id": "h0YpYEX7nOlJ"
      },
      "source": [
        ""
      ],
      "execution_count": null,
      "outputs": []
    }
  ]
}