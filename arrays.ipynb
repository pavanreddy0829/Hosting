{
  "nbformat": 4,
  "nbformat_minor": 0,
  "metadata": {
    "colab": {
      "name": "arrays.ipynb",
      "provenance": [],
      "collapsed_sections": [],
      "authorship_tag": "ABX9TyPHx5gxnDwfSZCa3b7PCgNQ",
      "include_colab_link": true
    },
    "kernelspec": {
      "name": "python3",
      "display_name": "Python 3"
    },
    "language_info": {
      "name": "python"
    }
  },
  "cells": [
    {
      "cell_type": "markdown",
      "metadata": {
        "id": "view-in-github",
        "colab_type": "text"
      },
      "source": [
        "<a href=\"https://colab.research.google.com/github/pavanreddy0829/Hosting/blob/main/arrays.ipynb\" target=\"_parent\"><img src=\"https://colab.research.google.com/assets/colab-badge.svg\" alt=\"Open In Colab\"/></a>"
      ]
    },
    {
      "cell_type": "markdown",
      "metadata": {
        "id": "RLen4ekFLd78"
      },
      "source": [
        "### Arrays ( array.shape, len(array), array.ndim, array.dtype, array.astype(type),\n",
        "type(array))\n"
      ]
    },
    {
      "cell_type": "code",
      "metadata": {
        "id": "niXCVQLfLplU"
      },
      "source": [
        "import numpy as np"
      ],
      "execution_count": null,
      "outputs": []
    },
    {
      "cell_type": "markdown",
      "metadata": {
        "id": "XRciheJiLqO5"
      },
      "source": [
        "Shape of an Array\n",
        "The shape of an array is the number of elements in each dimension."
      ]
    },
    {
      "cell_type": "code",
      "metadata": {
        "colab": {
          "base_uri": "https://localhost:8080/"
        },
        "id": "Xo4qG1rFLt6F",
        "outputId": "fb09f67b-1f69-4419-fc48-449be90eaa3f"
      },
      "source": [
        "arr = np.array([[1, 2, 3, 4], [5, 6, 7, 8]])\n",
        "\n",
        "print(arr.shape)"
      ],
      "execution_count": null,
      "outputs": [
        {
          "output_type": "stream",
          "name": "stdout",
          "text": [
            "(2, 4)\n"
          ]
        }
      ]
    },
    {
      "cell_type": "code",
      "metadata": {
        "colab": {
          "base_uri": "https://localhost:8080/"
        },
        "id": "XH1p7sXEL0yk",
        "outputId": "7d3e9a30-795a-497b-f17d-bf42d58bf257"
      },
      "source": [
        "arr = np.array([1, 2, 3, 4], ndmin=5)\n",
        "\n",
        "print(arr)\n",
        "print('shape of array :', arr.shape)"
      ],
      "execution_count": null,
      "outputs": [
        {
          "output_type": "stream",
          "name": "stdout",
          "text": [
            "[[[[[1 2 3 4]]]]]\n",
            "shape of array : (1, 1, 1, 1, 4)\n"
          ]
        }
      ]
    },
    {
      "cell_type": "code",
      "metadata": {
        "colab": {
          "base_uri": "https://localhost:8080/"
        },
        "id": "o3cVbHrgL3fv",
        "outputId": "4cf0d2e8-c118-49c9-a0d9-6d620c643a8b"
      },
      "source": [
        "x = np.array([1, 2, 3, 4])\n",
        "print(x.shape)"
      ],
      "execution_count": null,
      "outputs": [
        {
          "output_type": "stream",
          "name": "stdout",
          "text": [
            "(4,)\n"
          ]
        }
      ]
    },
    {
      "cell_type": "code",
      "metadata": {
        "colab": {
          "base_uri": "https://localhost:8080/"
        },
        "id": "dXvFroTAN2H6",
        "outputId": "efa227b4-e957-4d04-db21-cc89130c630d"
      },
      "source": [
        "array = np.array([[1,2,3],[4,5,6],[7,8,9]])\n",
        "print(array.shape)"
      ],
      "execution_count": null,
      "outputs": [
        {
          "output_type": "stream",
          "name": "stdout",
          "text": [
            "(3, 3)\n"
          ]
        }
      ]
    },
    {
      "cell_type": "markdown",
      "metadata": {
        "id": "VbLMNipeMJCX"
      },
      "source": [
        "len(array)"
      ]
    },
    {
      "cell_type": "code",
      "metadata": {
        "colab": {
          "base_uri": "https://localhost:8080/"
        },
        "id": "P92CcVpjMA9M",
        "outputId": "f7b2bcc3-173e-47ef-d0f3-fa13faaa8eeb"
      },
      "source": [
        "array = np.array([1,2,3,4,5,6,7,8,9])\n",
        "print(array.size)"
      ],
      "execution_count": null,
      "outputs": [
        {
          "output_type": "stream",
          "name": "stdout",
          "text": [
            "9\n"
          ]
        }
      ]
    },
    {
      "cell_type": "code",
      "metadata": {
        "colab": {
          "base_uri": "https://localhost:8080/"
        },
        "id": "bAgOMozrMSbI",
        "outputId": "5c10decd-3fc4-4a99-cc0c-d106023dbaa3"
      },
      "source": [
        "array = np.array([[1,2,3],[4,5,6],[7,8,9]])\n",
        "print(array.size)"
      ],
      "execution_count": null,
      "outputs": [
        {
          "output_type": "stream",
          "name": "stdout",
          "text": [
            "9\n"
          ]
        }
      ]
    },
    {
      "cell_type": "code",
      "metadata": {
        "colab": {
          "base_uri": "https://localhost:8080/"
        },
        "id": "4R-3Y8VcNyLq",
        "outputId": "85c1f4fd-b1ac-4b1a-e69c-eff381a4857c"
      },
      "source": [
        "\n",
        "l=[1,2,3,4]\n",
        "arr=np.array(l)\n",
        "print(\"Array isn\",arr)\n",
        "print(\"And dimension is\",arr.ndim)\n",
        "\n",
        "l=[[1,2,3],[3,2,1],[1,0,1]]\n",
        "arr=np.array(l)\n",
        "print(\"nArray isn\",arr)\n",
        "print(\"And dimension is\",arr.ndim)\n",
        "\n",
        "l=[[[1,2],[2,1]],[[3,4],[4,3]]]\n",
        "arr=np.array(l)\n",
        "print(\"nArray isn\",arr)\n",
        "print(\"And dimension is\",arr.ndim)"
      ],
      "execution_count": null,
      "outputs": [
        {
          "output_type": "stream",
          "name": "stdout",
          "text": [
            "Array isn [1 2 3 4]\n",
            "And dimension is 1\n",
            "nArray isn [[1 2 3]\n",
            " [3 2 1]\n",
            " [1 0 1]]\n",
            "And dimension is 2\n",
            "nArray isn [[[1 2]\n",
            "  [2 1]]\n",
            "\n",
            " [[3 4]\n",
            "  [4 3]]]\n",
            "And dimension is 3\n"
          ]
        }
      ]
    },
    {
      "cell_type": "markdown",
      "metadata": {
        "id": "h04BXr4NPCGr"
      },
      "source": [
        "### dtype"
      ]
    },
    {
      "cell_type": "code",
      "metadata": {
        "colab": {
          "base_uri": "https://localhost:8080/"
        },
        "id": "2xwqTrpkOVy3",
        "outputId": "d8eae2a6-c744-4bd2-e7ec-a888845c1958"
      },
      "source": [
        "print(np.dtype(np.int16))\n",
        "\n",
        "print(\"\\n\")\n",
        "\n",
        "print(np.dtype([('f1', np.int16)]))\n",
        "\n",
        "print(\"\\n\")\n",
        "\n",
        "print(np.dtype([('f1', [('f1', np.int16)])]))\n",
        "print(\"\\n\")\n",
        "\n",
        "print(np.dtype([('f1', np.uint), ('f2', np.int32)]))\n",
        "\n",
        "print(\"\\n\")\n",
        "\n",
        "print(np.dtype([('a','f8'),('b','S10')]))\n",
        "\n",
        "print(\"\\n\")\n",
        "\n",
        "print(np.dtype(\"i4, (2,3)f8\"))\n",
        "\n",
        "print(\"\\n\")\n",
        "\n",
        "print(np.dtype([('hello',(int,3)),('world',np.void,10)]))\n",
        "print(\"\\n\")\n",
        "\n",
        "print(np.dtype((np.int16, {'x':(np.int8,0), 'y':(np.int8,1)})))\n",
        "\n",
        "print(\"\\n\")\n",
        "\n",
        "print(np.dtype({'names':['gender','age'], 'formats':['S1',np.uint8]}))\n",
        "\n",
        "print(\"\\n\")\n",
        "\n",
        "print(np.dtype({'surname':('S25',0),'age':(np.uint8,25)}))"
      ],
      "execution_count": null,
      "outputs": [
        {
          "output_type": "stream",
          "name": "stdout",
          "text": [
            "int16\n",
            "\n",
            "\n",
            "[('f1', '<i2')]\n",
            "\n",
            "\n",
            "[('f1', [('f1', '<i2')])]\n",
            "\n",
            "\n",
            "[('f1', '<u8'), ('f2', '<i4')]\n",
            "\n",
            "\n",
            "[('a', '<f8'), ('b', 'S10')]\n",
            "\n",
            "\n",
            "[('f0', '<i4'), ('f1', '<f8', (2, 3))]\n",
            "\n",
            "\n",
            "[('hello', '<i8', (3,)), ('world', 'V10')]\n",
            "\n",
            "\n",
            "(numpy.int16, [('x', 'i1'), ('y', 'i1')])\n",
            "\n",
            "\n",
            "[('gender', 'S1'), ('age', 'u1')]\n",
            "\n",
            "\n",
            "[('surname', 'S25'), ('age', 'u1')]\n"
          ]
        }
      ]
    },
    {
      "cell_type": "markdown",
      "metadata": {
        "id": "BxCJRK7ORkQr"
      },
      "source": [
        "### ASTYPE and TYPE"
      ]
    },
    {
      "cell_type": "code",
      "metadata": {
        "colab": {
          "base_uri": "https://localhost:8080/"
        },
        "id": "ZkwhpWSSRXtr",
        "outputId": "e686b688-d709-4c13-c735-c709a2761f36"
      },
      "source": [
        "x = np.array([1, 2, 2.5])\n",
        "print(x)\n",
        "print(x.astype(int))"
      ],
      "execution_count": null,
      "outputs": [
        {
          "output_type": "stream",
          "name": "stdout",
          "text": [
            "[1.  2.  2.5]\n",
            "[1 2 2]\n"
          ]
        }
      ]
    },
    {
      "cell_type": "markdown",
      "metadata": {
        "id": "inAopQoTSb5J"
      },
      "source": [
        "# ARRAY MANIPULATION"
      ]
    },
    {
      "cell_type": "markdown",
      "metadata": {
        "id": "rkuK5rrNTDD5"
      },
      "source": [
        "### append\n",
        "\"\"\"\n",
        "This function adds values at the end of an input array. The append operation is not inplace, a new array is allocated. Also the dimensions of the input arrays must match otherwise ValueError will be generated.\n",
        "\n",
        "The function takes the following parameters.\n",
        "\n",
        "numpy.append(arr, values, axis)\"\"\""
      ]
    },
    {
      "cell_type": "code",
      "metadata": {
        "colab": {
          "base_uri": "https://localhost:8080/"
        },
        "id": "g5xwcIhVTFt5",
        "outputId": "9dff9cf7-be06-44f0-a087-5a259609158f"
      },
      "source": [
        "a = np.array([[1,2,3],[4,5,6]]) \n",
        "\n",
        "print('First array:' )\n",
        "print(a) \n",
        "print('\\n'  )\n",
        "\n",
        "print('Append elements to array:') \n",
        "print(np.append(a, [7,8,9]))\n",
        "print('\\n')  \n",
        "\n",
        "print('Append elements along axis 0:') \n",
        "print(np.append(a, [[7,8,9]],axis = 0)) \n",
        "print('\\n')  \n",
        "\n",
        "print('Append elements along axis 1:')\n",
        "print(np.append(a, [[5,5,5],[7,8,9]],axis = 1))"
      ],
      "execution_count": null,
      "outputs": [
        {
          "output_type": "stream",
          "name": "stdout",
          "text": [
            "First array:\n",
            "[[1 2 3]\n",
            " [4 5 6]]\n",
            "\n",
            "\n",
            "Append elements to array:\n",
            "[1 2 3 4 5 6 7 8 9]\n",
            "\n",
            "\n",
            "Append elements along axis 0:\n",
            "[[1 2 3]\n",
            " [4 5 6]\n",
            " [7 8 9]]\n",
            "\n",
            "\n",
            "Append elements along axis 1:\n",
            "[[1 2 3 5 5 5]\n",
            " [4 5 6 7 8 9]]\n"
          ]
        }
      ]
    },
    {
      "cell_type": "markdown",
      "metadata": {
        "id": "iFUB3-oRTeA-"
      },
      "source": [
        "### insert\n",
        "This function inserts values in the input array along the given axis and before the given index. If the type of values is converted to be inserted, it is different from the input array. Insertion is not done in place and the function returns a new array. Also, if the axis is not mentioned, the input array is flattened.\n",
        "\n",
        "The insert() function takes the following parameters −\n",
        "\n",
        "numpy.insert(arr, obj, values, axis)"
      ]
    },
    {
      "cell_type": "code",
      "metadata": {
        "colab": {
          "base_uri": "https://localhost:8080/"
        },
        "id": "_vzlxEiVTcX9",
        "outputId": "05a7ad03-b71f-4a2b-c608-437e2eb8201b"
      },
      "source": [
        "a = np.array([[1,2],[3,4],[5,6]]) \n",
        "\n",
        "print('First array:') \n",
        "print(a) \n",
        "print('\\n')  \n",
        "\n",
        "print('Axis parameter not passed. The input array is flattened before insertion.')\n",
        "print(np.insert(a,3,[11,12]) )\n",
        "print('\\n')\n",
        "print('Axis parameter passed. The values array is broadcast to match input array.')\n",
        "\n",
        "print('Broadcast along axis 0:') \n",
        "print(np.insert(a,1,[11],axis = 0))\n",
        "print('\\n')\n",
        "\n",
        "print('Broadcast along axis 1:')\n",
        "print(np.insert(a,1,11,axis = 1))\n"
      ],
      "execution_count": null,
      "outputs": [
        {
          "output_type": "stream",
          "name": "stdout",
          "text": [
            "First array:\n",
            "[[1 2]\n",
            " [3 4]\n",
            " [5 6]]\n",
            "\n",
            "\n",
            "Axis parameter not passed. The input array is flattened before insertion.\n",
            "[ 1  2  3 11 12  4  5  6]\n",
            "\n",
            "\n",
            "Axis parameter passed. The values array is broadcast to match input array.\n",
            "Broadcast along axis 0:\n",
            "[[ 1  2]\n",
            " [11 11]\n",
            " [ 3  4]\n",
            " [ 5  6]]\n",
            "\n",
            "\n",
            "Broadcast along axis 1:\n",
            "[[ 1 11  2]\n",
            " [ 3 11  4]\n",
            " [ 5 11  6]]\n"
          ]
        }
      ]
    },
    {
      "cell_type": "markdown",
      "metadata": {
        "id": "ib8H5vZeUTYD"
      },
      "source": [
        "### RESIZE\n",
        "This function returns a new array with the specified size. If the new size is greater than the original, the repeated copies of entries in the original are contained. The function takes the following parameters.\n",
        "\n",
        "numpy.resize(arr, shape)"
      ]
    },
    {
      "cell_type": "code",
      "metadata": {
        "colab": {
          "base_uri": "https://localhost:8080/"
        },
        "id": "0cat2tfKUCX6",
        "outputId": "e5f22031-7eea-48f4-c551-8099372c5b27"
      },
      "source": [
        "a = np.array([[1,2,3],[4,5,6]]) \n",
        "\n",
        "print('First array:') \n",
        "print(a)\n",
        "print('\\n')\n",
        "\n",
        "print('The shape of first array:') \n",
        "print(a.shape) \n",
        "print('\\n')  \n",
        "b = np.resize(a, (3,2)) \n",
        "\n",
        "print('Second array:') \n",
        "print(b) \n",
        "print('\\n')  \n",
        "\n",
        "print('The shape of second array:')\n",
        "print(b.shape) \n",
        "print('\\n')  \n",
        "# Observe that first row of a is repeated in b since size is bigger \n",
        "\n",
        "print('Resize the second array:')\n",
        "b = np.resize(a,(3,3)) \n",
        "print(b)"
      ],
      "execution_count": null,
      "outputs": [
        {
          "output_type": "stream",
          "name": "stdout",
          "text": [
            "First array:\n",
            "[[1 2 3]\n",
            " [4 5 6]]\n",
            "\n",
            "\n",
            "The shape of first array:\n",
            "(2, 3)\n",
            "\n",
            "\n",
            "Second array:\n",
            "[[1 2]\n",
            " [3 4]\n",
            " [5 6]]\n",
            "\n",
            "\n",
            "The shape of second array:\n",
            "(3, 2)\n",
            "\n",
            "\n",
            "Resize the second array:\n",
            "[[1 2 3]\n",
            " [4 5 6]\n",
            " [1 2 3]]\n"
          ]
        }
      ]
    },
    {
      "cell_type": "markdown",
      "metadata": {
        "id": "Uj0QAmJbUdLY"
      },
      "source": [
        "### DELETE\n",
        "This function returns a new array with the specified subarray deleted from the input array. As in case of insert() function, if the axis parameter is not used, the input array is flattened. The function takes the following parameters −\n",
        "\n",
        "Numpy.delete(arr, obj, axis)"
      ]
    },
    {
      "cell_type": "code",
      "metadata": {
        "colab": {
          "base_uri": "https://localhost:8080/"
        },
        "id": "fYUTBZkmUgfl",
        "outputId": "85cfa1b1-b5ea-4228-9f19-0b755e842cf5"
      },
      "source": [
        "a = np.arange(12).reshape(3,4) \n",
        "\n",
        "print('First array:') \n",
        "print(a) \n",
        "print('\\n')  \n",
        "\n",
        "print('Array flattened before delete operation as axis not used:')\n",
        "print(np.delete(a,5))\n",
        "print('\\n') \n",
        "\n",
        "print('Column 2 deleted:')  \n",
        "print(np.delete(a,1,axis = 1))\n",
        "print('\\n')  \n",
        "\n",
        "print('A slice containing alternate values from array deleted:') \n",
        "a = np.array([1,2,3,4,5,6,7,8,9,10]) \n",
        "print(np.delete(a, np.s_[::2]))"
      ],
      "execution_count": null,
      "outputs": [
        {
          "output_type": "stream",
          "name": "stdout",
          "text": [
            "First array:\n",
            "[[ 0  1  2  3]\n",
            " [ 4  5  6  7]\n",
            " [ 8  9 10 11]]\n",
            "\n",
            "\n",
            "Array flattened before delete operation as axis not used:\n",
            "[ 0  1  2  3  4  6  7  8  9 10 11]\n",
            "\n",
            "\n",
            "Column 2 deleted:\n",
            "[[ 0  2  3]\n",
            " [ 4  6  7]\n",
            " [ 8 10 11]]\n",
            "\n",
            "\n",
            "A slice containing alternate values from array deleted:\n",
            "[ 2  4  6  8 10]\n"
          ]
        }
      ]
    },
    {
      "cell_type": "markdown",
      "metadata": {
        "id": "6xBCMgNEVPAr"
      },
      "source": [
        "### CONCATENATE\n",
        "\n",
        "Concatenation refers to joining. This function is used to join two or more arrays of the same shape along a specified axis. The function takes the following parameters.\n",
        "\n",
        "numpy.concatenate((a1, a2, ...), axis)"
      ]
    },
    {
      "cell_type": "code",
      "metadata": {
        "colab": {
          "base_uri": "https://localhost:8080/"
        },
        "id": "2b454HkWVGWf",
        "outputId": "4bee739e-cdca-4499-dfbf-19ccc7062c6d"
      },
      "source": [
        "a = np.array([[1,2],[3,4]]) \n",
        "\n",
        "print('First array:') \n",
        "print(a)\n",
        "print('\\n')  \n",
        "b = np.array([[5,6],[7,8]]) \n",
        "\n",
        "print('Second array:') \n",
        "print(b)\n",
        "print('\\n')\n",
        "# both the arrays are of same dimensions \n",
        "\n",
        "print('Joining the two arrays along axis 0:')\n",
        "print(np.concatenate((a,b))) \n",
        "print('\\n')  \n",
        "\n",
        "print('Joining the two arrays along axis 1:')\n",
        "print(np.concatenate((a,b),axis = 1))"
      ],
      "execution_count": null,
      "outputs": [
        {
          "output_type": "stream",
          "name": "stdout",
          "text": [
            "First array:\n",
            "[[1 2]\n",
            " [3 4]]\n",
            "\n",
            "\n",
            "Second array:\n",
            "[[5 6]\n",
            " [7 8]]\n",
            "\n",
            "\n",
            "Joining the two arrays along axis 0:\n",
            "[[1 2]\n",
            " [3 4]\n",
            " [5 6]\n",
            " [7 8]]\n",
            "\n",
            "\n",
            "Joining the two arrays along axis 1:\n",
            "[[1 2 5 6]\n",
            " [3 4 7 8]]\n"
          ]
        }
      ]
    },
    {
      "cell_type": "markdown",
      "metadata": {
        "id": "xAgwrcaNVpJJ"
      },
      "source": [
        "### HSTACK\n",
        "Variants of numpy.stack function to stack so as to make a single array horizontally."
      ]
    },
    {
      "cell_type": "code",
      "metadata": {
        "colab": {
          "base_uri": "https://localhost:8080/"
        },
        "id": "Ci-uCmAKVlzx",
        "outputId": "4ce93df6-00bb-4e35-a320-b3b979f1d582"
      },
      "source": [
        "import numpy as np \n",
        "a = np.array([[1,2],[3,4]]) \n",
        "\n",
        "print('First array:') \n",
        "print(a) \n",
        "print('\\n')  \n",
        "b = np.array([[5,6],[7,8]]) \n",
        "\n",
        "print('Second array:')\n",
        "print(b)\n",
        "print('\\n')\n",
        "\n",
        "print('Horizontal stacking:') \n",
        "c = np.hstack((a,b)) \n",
        "print(c )\n"
      ],
      "execution_count": null,
      "outputs": [
        {
          "output_type": "stream",
          "name": "stdout",
          "text": [
            "First array:\n",
            "[[1 2]\n",
            " [3 4]]\n",
            "\n",
            "\n",
            "Second array:\n",
            "[[5 6]\n",
            " [7 8]]\n",
            "\n",
            "\n",
            "Horizontal stacking:\n",
            "[[1 2 5 6]\n",
            " [3 4 7 8]]\n"
          ]
        }
      ]
    },
    {
      "cell_type": "markdown",
      "metadata": {
        "id": "1h5OnDksWEQK"
      },
      "source": [
        "### VSTACK\n",
        "Variants of numpy.stack function to stack so as to make a single array vertically."
      ]
    },
    {
      "cell_type": "code",
      "metadata": {
        "colab": {
          "base_uri": "https://localhost:8080/"
        },
        "id": "LTUo_oVsWAUx",
        "outputId": "b828e2f0-1c6f-4c03-fbc8-8b3fc2e53634"
      },
      "source": [
        "a = np.array([[1,2],[3,4]]) \n",
        "\n",
        "print('First array:') \n",
        "print(a) \n",
        "print('\\n')  \n",
        "b = np.array([[5,6],[7,8]]) \n",
        "\n",
        "print('Second array:') \n",
        "print(b) \n",
        "print('\\n')\n",
        "\n",
        "print('Vertical stacking:' )\n",
        "c = np.vstack((a,b)) \n",
        "print(c)"
      ],
      "execution_count": null,
      "outputs": [
        {
          "output_type": "stream",
          "name": "stdout",
          "text": [
            "First array:\n",
            "[[1 2]\n",
            " [3 4]]\n",
            "\n",
            "\n",
            "Second array:\n",
            "[[5 6]\n",
            " [7 8]]\n",
            "\n",
            "\n",
            "Vertical stacking:\n",
            "[[1 2]\n",
            " [3 4]\n",
            " [5 6]\n",
            " [7 8]]\n"
          ]
        }
      ]
    },
    {
      "cell_type": "markdown",
      "metadata": {
        "id": "JNxnNQ0kWkTT"
      },
      "source": [
        "# MATHEMATICAL OPERATIONS"
      ]
    },
    {
      "cell_type": "code",
      "metadata": {
        "colab": {
          "base_uri": "https://localhost:8080/"
        },
        "id": "0FqMji8MWY6v",
        "outputId": "56e61bf1-2006-4e2d-f9be-84c65606becf"
      },
      "source": [
        "a = np.array([0,30,45,60,90]) \n",
        "\n",
        "print('Sine of different angles:' )\n",
        "# Convert to radians by multiplying with pi/180 \n",
        "print(np.sin(a*np.pi/180))\n",
        "print('\\n')  \n",
        "\n",
        "print('Cosine values for angles in array:')\n",
        "print(np.cos(a*np.pi/180)) \n",
        "print('\\n')  \n",
        "\n",
        "print('Tangent values for given angles:') \n",
        "print(np.tan(a*np.pi/180)) "
      ],
      "execution_count": null,
      "outputs": [
        {
          "output_type": "stream",
          "name": "stdout",
          "text": [
            "Sine of different angles:\n",
            "[0.         0.5        0.70710678 0.8660254  1.        ]\n",
            "\n",
            "\n",
            "Cosine values for angles in array:\n",
            "[1.00000000e+00 8.66025404e-01 7.07106781e-01 5.00000000e-01\n",
            " 6.12323400e-17]\n",
            "\n",
            "\n",
            "Tangent values for given angles:\n",
            "[0.00000000e+00 5.77350269e-01 1.00000000e+00 1.73205081e+00\n",
            " 1.63312394e+16]\n"
          ]
        }
      ]
    },
    {
      "cell_type": "code",
      "metadata": {
        "colab": {
          "base_uri": "https://localhost:8080/"
        },
        "id": "73oNG5fDXdKR",
        "outputId": "a55c8486-a5a7-40bd-e102-961f3ee545e7"
      },
      "source": [
        "print(np.dot(3, 4))\n",
        "print('\\n')\n",
        "\n",
        "print(np.dot([2j, 3j], [2j, 3j]))\n",
        "print('\\n')\n",
        "\n",
        "a = [[1, 0], [0, 1]]\n",
        "b = [[4, 1], [2, 2]]\n",
        "print(np.dot(a, b))\n",
        "\n"
      ],
      "execution_count": null,
      "outputs": [
        {
          "output_type": "stream",
          "name": "stdout",
          "text": [
            "12\n",
            "\n",
            "\n",
            "(-13+0j)\n",
            "\n",
            "\n",
            "[[4 1]\n",
            " [2 2]]\n"
          ]
        }
      ]
    },
    {
      "cell_type": "code",
      "metadata": {
        "colab": {
          "base_uri": "https://localhost:8080/"
        },
        "id": "R5kxnfgAXsFG",
        "outputId": "5ea0022d-bb9b-496b-da20-a5617de46779"
      },
      "source": [
        "#numpy.roots(p)[source]\n",
        "#Return the roots of a polynomial with coefficients given in p.\n",
        "\n",
        "coeff = [3.2, 2, 1]\n",
        "print(np.roots(coeff))"
      ],
      "execution_count": null,
      "outputs": [
        {
          "output_type": "stream",
          "name": "stdout",
          "text": [
            "[-0.3125+0.46351241j -0.3125-0.46351241j]\n"
          ]
        }
      ]
    },
    {
      "cell_type": "code",
      "metadata": {
        "colab": {
          "base_uri": "https://localhost:8080/"
        },
        "id": "IoTEK_iGYkiH",
        "outputId": "73269c94-3837-4974-84c1-46a414ff910b"
      },
      "source": [
        "#np.sqrt\n",
        "arr1 = np.sqrt([1, 4, 9, 16])\n",
        "arr2 = np.sqrt([6, 10, 18])\n",
        "  \n",
        "print(\"square-root of an array1  : \", arr1)\n",
        "print(\"square-root of an array2  : \", arr2)"
      ],
      "execution_count": null,
      "outputs": [
        {
          "output_type": "stream",
          "name": "stdout",
          "text": [
            "square-root of an array1  :  [1. 2. 3. 4.]\n",
            "square-root of an array2  :  [2.44948974 3.16227766 4.24264069]\n"
          ]
        }
      ]
    },
    {
      "cell_type": "code",
      "metadata": {
        "colab": {
          "base_uri": "https://localhost:8080/"
        },
        "id": "Hxw0p0THYzDx",
        "outputId": "06ef498f-555f-471b-da04-ee290103321d"
      },
      "source": [
        "#np.log\n",
        "in_array = [1, 3, 5, 2**8]\n",
        "print (\"Input array : \", in_array)\n",
        "  \n",
        "out_array = np.log(in_array)\n",
        "print (\"Output array : \", out_array)\n",
        "  \n",
        "  \n",
        "print(\"\\nnp.log(4**4) : \", np.log(4**4))\n",
        "print(\"np.log(2**8) : \", np.log(2**8))"
      ],
      "execution_count": null,
      "outputs": [
        {
          "output_type": "stream",
          "name": "stdout",
          "text": [
            "Input array :  [1, 3, 5, 256]\n",
            "Output array :  [0.         1.09861229 1.60943791 5.54517744]\n",
            "\n",
            "np.log(4**4) :  5.545177444479562\n",
            "np.log(2**8) :  5.545177444479562\n"
          ]
        }
      ]
    },
    {
      "cell_type": "code",
      "metadata": {
        "colab": {
          "base_uri": "https://localhost:8080/"
        },
        "id": "IkzauVmTY89q",
        "outputId": "64274766-abce-450c-f05d-3ef908d69700"
      },
      "source": [
        "a = np.arange(9, dtype = np.float_).reshape(3,3) \n",
        "\n",
        "print('First array:') \n",
        "print(a)\n",
        "print( '\\n')  \n",
        "\n",
        "print('Second array:') \n",
        "b = np.array([10,10,10]) \n",
        "print(b) \n",
        "print('\\n')  \n",
        "\n",
        "print('Add the two arrays:')\n",
        "print(np.add(a,b)) \n",
        "print('\\n')  \n",
        "\n",
        "print('Subtract the two arrays:')\n",
        "print(np.subtract(a,b)) \n",
        "print('\\n')  \n",
        "\n",
        "print('Multiply the two arrays:')\n",
        "print(np.multiply(a,b)) \n",
        "print('\\n')  \n",
        "\n",
        "print('Divide the two arrays:') \n",
        "print(np.divide(a,b))"
      ],
      "execution_count": null,
      "outputs": [
        {
          "output_type": "stream",
          "name": "stdout",
          "text": [
            "First array:\n",
            "[[0. 1. 2.]\n",
            " [3. 4. 5.]\n",
            " [6. 7. 8.]]\n",
            "\n",
            "\n",
            "Second array:\n",
            "[10 10 10]\n",
            "\n",
            "\n",
            "Add the two arrays:\n",
            "[[10. 11. 12.]\n",
            " [13. 14. 15.]\n",
            " [16. 17. 18.]]\n",
            "\n",
            "\n",
            "Subtract the two arrays:\n",
            "[[-10.  -9.  -8.]\n",
            " [ -7.  -6.  -5.]\n",
            " [ -4.  -3.  -2.]]\n",
            "\n",
            "\n",
            "Multiply the two arrays:\n",
            "[[ 0. 10. 20.]\n",
            " [30. 40. 50.]\n",
            " [60. 70. 80.]]\n",
            "\n",
            "\n",
            "Divide the two arrays:\n",
            "[[0.  0.1 0.2]\n",
            " [0.3 0.4 0.5]\n",
            " [0.6 0.7 0.8]]\n"
          ]
        }
      ]
    },
    {
      "cell_type": "code",
      "metadata": {
        "colab": {
          "base_uri": "https://localhost:8080/"
        },
        "id": "uT1AUqbzZXR9",
        "outputId": "8acf4760-c43f-4c18-ecc2-a6427d791412"
      },
      "source": [
        "#mean\n",
        "a = np.array([[1,2,3],[3,4,5],[4,5,6]]) \n",
        "\n",
        "print('Our array is:') \n",
        "print(a)\n",
        "print('\\n')  \n",
        "\n",
        "print('Applying mean() function:') \n",
        "print(np.mean(a) )\n",
        "print('\\n' )\n",
        "\n",
        "print('Applying mean() function along axis 0:') \n",
        "print(np.mean(a, axis = 0))\n",
        "print('\\n')  \n",
        "\n",
        "print('Applying mean() function along axis 1:') \n",
        "print(np.mean(a, axis = 1))"
      ],
      "execution_count": null,
      "outputs": [
        {
          "output_type": "stream",
          "name": "stdout",
          "text": [
            "Our array is:\n",
            "[[1 2 3]\n",
            " [3 4 5]\n",
            " [4 5 6]]\n",
            "\n",
            "\n",
            "Applying mean() function:\n",
            "3.6666666666666665\n",
            "\n",
            "\n",
            "Applying mean() function along axis 0:\n",
            "[2.66666667 3.66666667 4.66666667]\n",
            "\n",
            "\n",
            "Applying mean() function along axis 1:\n",
            "[2. 4. 5.]\n"
          ]
        }
      ]
    },
    {
      "cell_type": "code",
      "metadata": {
        "colab": {
          "base_uri": "https://localhost:8080/"
        },
        "id": "QFzGCvsHZ8vY",
        "outputId": "e729a98b-8eca-45f9-fd0e-4ae8b9a28d89"
      },
      "source": [
        "#medain\n",
        "a = np.array([[1,2,3],[3,4,5],[4,5,6]]) \n",
        "\n",
        "print('Our array is:') \n",
        "print(a)\n",
        "print('\\n')  \n",
        "\n",
        "print('Applying median() function:') \n",
        "print(np.median(a) )\n",
        "print('\\n' )\n",
        "\n",
        "print('Applying median() function along axis 0:') \n",
        "print(np.median(a, axis = 0))\n",
        "print('\\n')  \n",
        "\n",
        "print('Applying median() function along axis 1:') \n",
        "print(np.median(a, axis = 1))"
      ],
      "execution_count": null,
      "outputs": [
        {
          "output_type": "stream",
          "name": "stdout",
          "text": [
            "Our array is:\n",
            "[[1 2 3]\n",
            " [3 4 5]\n",
            " [4 5 6]]\n",
            "\n",
            "\n",
            "Applying median() function:\n",
            "4.0\n",
            "\n",
            "\n",
            "Applying median() function along axis 0:\n",
            "[3. 4. 5.]\n",
            "\n",
            "\n",
            "Applying median() function along axis 1:\n",
            "[2. 4. 5.]\n"
          ]
        }
      ]
    },
    {
      "cell_type": "code",
      "metadata": {
        "id": "TqENXaohaJZI"
      },
      "source": [
        "\"\"\"\n",
        "Standard Deviation\n",
        "Standard deviation is the square root of the average of squared deviations from mean. The formula for standard deviation is as follows −\n",
        "\n",
        "std = sqrt(mean(abs(x - x.mean())**2))\n",
        "\"\"\""
      ],
      "execution_count": null,
      "outputs": []
    },
    {
      "cell_type": "code",
      "metadata": {
        "colab": {
          "base_uri": "https://localhost:8080/"
        },
        "id": "fHH2xYYXaXuS",
        "outputId": "7c905923-514a-446c-b2c5-830c34f7bccd"
      },
      "source": [
        "print(np.std([1,2,3,4]))"
      ],
      "execution_count": null,
      "outputs": [
        {
          "output_type": "stream",
          "name": "stdout",
          "text": [
            "1.118033988749895\n"
          ]
        }
      ]
    },
    {
      "cell_type": "markdown",
      "metadata": {
        "id": "naPZhBGkakWr"
      },
      "source": [
        "\n",
        "## numpy.corrcoef\n",
        "numpy.corrcoef(x, y=None, rowvar=True, bias=<no value>, ddof=<no value>, *, dtype=None)[source]\n",
        "Return Pearson product-moment correlation coefficients.\n",
        "\n",
        "Please refer to the documentation for cov for more detail. The relationship between the correlation coefficient matrix, R, and the covariance matrix, C, is\n",
        "\n",
        "The values of R are between -1 and 1, inclusive."
      ]
    },
    {
      "cell_type": "code",
      "metadata": {
        "colab": {
          "base_uri": "https://localhost:8080/"
        },
        "id": "wAqg4u3taZ9t",
        "outputId": "4391a4db-0379-4deb-a018-10d37aaf36bd"
      },
      "source": [
        "rng = np.random.default_rng(seed=42)\n",
        "xarr = rng.random((3, 3))\n",
        "print(xarr)\n",
        "print('\\n')\n",
        "print(\"after applying corrcoef\")\n",
        "R1 = np.corrcoef(xarr)\n",
        "print(R1)"
      ],
      "execution_count": null,
      "outputs": [
        {
          "output_type": "stream",
          "name": "stdout",
          "text": [
            "[[0.77395605 0.43887844 0.85859792]\n",
            " [0.69736803 0.09417735 0.97562235]\n",
            " [0.7611397  0.78606431 0.12811363]]\n",
            "\n",
            "\n",
            "after applying corrcoef\n",
            "[[ 1.          0.99256089 -0.68080986]\n",
            " [ 0.99256089  1.         -0.76492172]\n",
            " [-0.68080986 -0.76492172  1.        ]]\n"
          ]
        }
      ]
    },
    {
      "cell_type": "code",
      "metadata": {
        "colab": {
          "base_uri": "https://localhost:8080/"
        },
        "id": "VT4AilPBa0ey",
        "outputId": "338d82f9-4e9d-4a3e-e34e-c3bafe812339"
      },
      "source": [
        "yarr = rng.random((3, 3))\n",
        "print(yarr)\n",
        "print('\\n')\n",
        "\n",
        "R2 = np.corrcoef(xarr, yarr)\n",
        "print(R2)"
      ],
      "execution_count": null,
      "outputs": [
        {
          "output_type": "stream",
          "name": "stdout",
          "text": [
            "[[0.45038594 0.37079802 0.92676499]\n",
            " [0.64386512 0.82276161 0.4434142 ]\n",
            " [0.22723872 0.55458479 0.06381726]]\n",
            "\n",
            "\n",
            "[[ 1.          0.99256089 -0.68080986  0.75008178 -0.934284   -0.99004057]\n",
            " [ 0.99256089  1.         -0.76492172  0.82502011 -0.97074098 -0.99981569]\n",
            " [-0.68080986 -0.76492172  1.         -0.99507202  0.89721355  0.77714685]\n",
            " [ 0.75008178  0.82502011 -0.99507202  1.         -0.93657855 -0.83571711]\n",
            " [-0.934284   -0.97074098  0.89721355 -0.93657855  1.          0.97517215]\n",
            " [-0.99004057 -0.99981569  0.77714685 -0.83571711  0.97517215  1.        ]]\n"
          ]
        }
      ]
    },
    {
      "cell_type": "code",
      "metadata": {
        "id": "Qup7uZG8bE-P"
      },
      "source": [
        ""
      ],
      "execution_count": null,
      "outputs": []
    }
  ]
}