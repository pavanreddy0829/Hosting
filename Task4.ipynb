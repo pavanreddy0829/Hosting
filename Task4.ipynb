{
  "nbformat": 4,
  "nbformat_minor": 0,
  "metadata": {
    "colab": {
      "name": "Task4.ipynb",
      "provenance": [],
      "authorship_tag": "ABX9TyPGeFiUMhUrwTK6F1HhbjXt",
      "include_colab_link": true
    },
    "kernelspec": {
      "name": "python3",
      "display_name": "Python 3"
    },
    "language_info": {
      "name": "python"
    }
  },
  "cells": [
    {
      "cell_type": "markdown",
      "metadata": {
        "id": "view-in-github",
        "colab_type": "text"
      },
      "source": [
        "<a href=\"https://colab.research.google.com/github/pavanreddy0829/Hosting/blob/main/Task4.ipynb\" target=\"_parent\"><img src=\"https://colab.research.google.com/assets/colab-badge.svg\" alt=\"Open In Colab\"/></a>"
      ]
    },
    {
      "cell_type": "markdown",
      "metadata": {
        "id": "VhpQmoYWbgZI"
      },
      "source": [
        "### 1.Import the numpy package under the name np and Print the numpy version and the configuration "
      ]
    },
    {
      "cell_type": "code",
      "metadata": {
        "colab": {
          "base_uri": "https://localhost:8080/"
        },
        "id": "Oh2lHArDbRQH",
        "outputId": "79bc4df2-53b7-4940-ff32-bd20490b938f"
      },
      "source": [
        "import numpy as np\n",
        "np.version"
      ],
      "execution_count": 3,
      "outputs": [
        {
          "output_type": "execute_result",
          "data": {
            "text/plain": [
              "<module 'numpy.version' from '/usr/local/lib/python3.7/dist-packages/numpy/version.py'>"
            ]
          },
          "metadata": {
            "tags": []
          },
          "execution_count": 3
        }
      ]
    },
    {
      "cell_type": "markdown",
      "metadata": {
        "id": "XWwMuVIqcLQC"
      },
      "source": [
        "### 2.Create a null vector of size 10"
      ]
    },
    {
      "cell_type": "code",
      "metadata": {
        "colab": {
          "base_uri": "https://localhost:8080/"
        },
        "id": "6mHMi6--bqtj",
        "outputId": "65a2c887-033d-41cd-c877-24e067cc31ca"
      },
      "source": [
        "import numpy as np\n",
        "x = np.zeros(10)\n",
        "print(x)"
      ],
      "execution_count": 4,
      "outputs": [
        {
          "output_type": "stream",
          "text": [
            "[0. 0. 0. 0. 0. 0. 0. 0. 0. 0.]\n"
          ],
          "name": "stdout"
        }
      ]
    },
    {
      "cell_type": "markdown",
      "metadata": {
        "id": "P1FusQ-ocpqj"
      },
      "source": [
        "### 3.Create Simple 1-D array and check type and check data types in array"
      ]
    },
    {
      "cell_type": "code",
      "metadata": {
        "colab": {
          "base_uri": "https://localhost:8080/"
        },
        "id": "bVmbRRS3cobS",
        "outputId": "272d9a71-70bf-4db5-cb1f-e8afb2affc33"
      },
      "source": [
        "a = np.array([1,2,3,4])\n",
        "print(type(a))\n",
        "print(a.dtype)"
      ],
      "execution_count": 5,
      "outputs": [
        {
          "output_type": "stream",
          "text": [
            "<class 'numpy.ndarray'>\n",
            "int64\n"
          ],
          "name": "stdout"
        }
      ]
    },
    {
      "cell_type": "markdown",
      "metadata": {
        "id": "Vz9aW-H3c8UA"
      },
      "source": [
        "### 4.How to find number of dimensions, bytes per element and bytes of memory used?"
      ]
    },
    {
      "cell_type": "code",
      "metadata": {
        "colab": {
          "base_uri": "https://localhost:8080/"
        },
        "id": "f0WUXt3-c6GQ",
        "outputId": "bf806534-fe44-4af2-8a6b-b01706773cdf"
      },
      "source": [
        "# create a numpy 1d-array\n",
        "x = np.array([100,20,34])\n",
        "\n",
        "#to find number of dimensions\n",
        "print(x.ndim)\n",
        "print(\"Size of the array: \",\n",
        "      x.size)\n",
        "  \n",
        "print(\"Memory size of one array element in bytes: \",\n",
        "      x.itemsize)\n",
        "  \n",
        "# memory size of numpy array in bytes\n",
        "print(\"Memory size of numpy array in bytes:\",\n",
        "      x.size * x.itemsize)"
      ],
      "execution_count": 6,
      "outputs": [
        {
          "output_type": "stream",
          "text": [
            "1\n",
            "Size of the array:  3\n",
            "Memory size of one array element in bytes:  8\n",
            "Memory size of numpy array in bytes: 24\n"
          ],
          "name": "stdout"
        }
      ]
    },
    {
      "cell_type": "markdown",
      "metadata": {
        "id": "LTWDvmNcdxF6"
      },
      "source": [
        "### 5.Create a null vector of size 10 but the fifth value which is 1"
      ]
    },
    {
      "cell_type": "code",
      "metadata": {
        "colab": {
          "base_uri": "https://localhost:8080/"
        },
        "id": "ZCxraividryh",
        "outputId": "0f37f922-e92a-4ab0-96fc-5a9c406d383d"
      },
      "source": [
        "a = np.zeros((10))\n",
        "print(a)\n",
        "a[4]=1\n",
        "print(a)"
      ],
      "execution_count": 8,
      "outputs": [
        {
          "output_type": "stream",
          "text": [
            "[0. 0. 0. 0. 0. 0. 0. 0. 0. 0.]\n",
            "[0. 0. 0. 0. 1. 0. 0. 0. 0. 0.]\n"
          ],
          "name": "stdout"
        }
      ]
    },
    {
      "cell_type": "markdown",
      "metadata": {
        "id": "eFoTC-_DeHst"
      },
      "source": [
        "### 6.Create a vector with values ranging from 10 to 49"
      ]
    },
    {
      "cell_type": "code",
      "metadata": {
        "colab": {
          "base_uri": "https://localhost:8080/"
        },
        "id": "BQ5J-Cdld_Lk",
        "outputId": "debe8c86-8f51-4e52-ea0c-3614bb807aea"
      },
      "source": [
        "a = np.arange(10,50)\n",
        "print(a)"
      ],
      "execution_count": 9,
      "outputs": [
        {
          "output_type": "stream",
          "text": [
            "[10 11 12 13 14 15 16 17 18 19 20 21 22 23 24 25 26 27 28 29 30 31 32 33\n",
            " 34 35 36 37 38 39 40 41 42 43 44 45 46 47 48 49]\n"
          ],
          "name": "stdout"
        }
      ]
    },
    {
      "cell_type": "markdown",
      "metadata": {
        "id": "XBKsasK6eTfz"
      },
      "source": [
        "### 7.Reverse a vector (first element becomes last)"
      ]
    },
    {
      "cell_type": "code",
      "metadata": {
        "colab": {
          "base_uri": "https://localhost:8080/"
        },
        "id": "aXk5V7YreRQO",
        "outputId": "a5662e92-852b-4e26-c30f-65048580a2c5"
      },
      "source": [
        "a = np.arange(10,21)\n",
        "print(a[::-1])"
      ],
      "execution_count": 13,
      "outputs": [
        {
          "output_type": "stream",
          "text": [
            "[20 19 18 17 16 15 14 13 12 11 10]\n"
          ],
          "name": "stdout"
        }
      ]
    },
    {
      "cell_type": "markdown",
      "metadata": {
        "id": "RJGJOmMNe0Do"
      },
      "source": [
        "### 8.Create a 3x3 matrix with values ranging from 0 to 8"
      ]
    },
    {
      "cell_type": "code",
      "metadata": {
        "colab": {
          "base_uri": "https://localhost:8080/"
        },
        "id": "el3oudYeemcV",
        "outputId": "40e56b3f-9ae9-4cc3-8b82-79b820b1f3d1"
      },
      "source": [
        "a = np.array([[0,1,2],[3,4,5],[6,7,8]])\n",
        "print(a)"
      ],
      "execution_count": 16,
      "outputs": [
        {
          "output_type": "stream",
          "text": [
            "[[0 1 2]\n",
            " [3 4 5]\n",
            " [6 7 8]]\n"
          ],
          "name": "stdout"
        }
      ]
    },
    {
      "cell_type": "code",
      "metadata": {
        "colab": {
          "base_uri": "https://localhost:8080/"
        },
        "id": "scJYIfxGfGwn",
        "outputId": "d4225eb0-3df9-415d-839d-a24a4a5e2e7b"
      },
      "source": [
        "a= np.arange(0,9).reshape(3,3)\n",
        "print(a)"
      ],
      "execution_count": 17,
      "outputs": [
        {
          "output_type": "stream",
          "text": [
            "[[0 1 2]\n",
            " [3 4 5]\n",
            " [6 7 8]]\n"
          ],
          "name": "stdout"
        }
      ]
    },
    {
      "cell_type": "markdown",
      "metadata": {
        "id": "kpd7yQSpfbZQ"
      },
      "source": [
        "### 9.Find indices of non-zero elements from [1,2,0,0,4,0]"
      ]
    },
    {
      "cell_type": "code",
      "metadata": {
        "colab": {
          "base_uri": "https://localhost:8080/"
        },
        "id": "aaw4FmSafZ2L",
        "outputId": "f550154a-dfef-40a0-90da-c960a0228fb6"
      },
      "source": [
        "a = np.array([1,2,0,0,4])\n",
        "ar =a.nonzero()\n",
        "print(ar)"
      ],
      "execution_count": 18,
      "outputs": [
        {
          "output_type": "stream",
          "text": [
            "(array([0, 1, 4]),)\n"
          ],
          "name": "stdout"
        }
      ]
    },
    {
      "cell_type": "markdown",
      "metadata": {
        "id": "EpJ-vykJf-Iq"
      },
      "source": [
        "### 10.Create a 3x3 identity matrix\n"
      ]
    },
    {
      "cell_type": "code",
      "metadata": {
        "colab": {
          "base_uri": "https://localhost:8080/"
        },
        "id": "1bUDGO3Jf6R0",
        "outputId": "77926465-172f-43fc-85e4-760323838544"
      },
      "source": [
        "a = np.identity(3,dtype=int)\n",
        "print(a)"
      ],
      "execution_count": 20,
      "outputs": [
        {
          "output_type": "stream",
          "text": [
            "[[1 0 0]\n",
            " [0 1 0]\n",
            " [0 0 1]]\n"
          ],
          "name": "stdout"
        }
      ]
    },
    {
      "cell_type": "markdown",
      "metadata": {
        "id": "D-BTvh-dgUr2"
      },
      "source": [
        "### 11.Create a 3x3x3 array with random values"
      ]
    },
    {
      "cell_type": "code",
      "metadata": {
        "colab": {
          "base_uri": "https://localhost:8080/"
        },
        "id": "3uqigx7mgOQh",
        "outputId": "70db414f-90fc-4628-b199-f26810d6fc48"
      },
      "source": [
        "a =np.arange(0,27).reshape(3,3,3)\n",
        "print(a)\n",
        "print(a.ndim)"
      ],
      "execution_count": 23,
      "outputs": [
        {
          "output_type": "stream",
          "text": [
            "[[[ 0  1  2]\n",
            "  [ 3  4  5]\n",
            "  [ 6  7  8]]\n",
            "\n",
            " [[ 9 10 11]\n",
            "  [12 13 14]\n",
            "  [15 16 17]]\n",
            "\n",
            " [[18 19 20]\n",
            "  [21 22 23]\n",
            "  [24 25 26]]]\n",
            "3\n"
          ],
          "name": "stdout"
        }
      ]
    },
    {
      "cell_type": "markdown",
      "metadata": {
        "id": "sKkMocunijC0"
      },
      "source": [
        "### 12.Create a 10x10 array with random values and find the minimum and maximum values"
      ]
    },
    {
      "cell_type": "code",
      "metadata": {
        "colab": {
          "base_uri": "https://localhost:8080/"
        },
        "id": "lYoKMLWvggBb",
        "outputId": "b8c4abe9-8383-4899-80d1-72ebbe720977"
      },
      "source": [
        "a = np.random.randint(100,size=(10,10))\n",
        "print(a)"
      ],
      "execution_count": 24,
      "outputs": [
        {
          "output_type": "stream",
          "text": [
            "[[43 17 56  7 31 30 94 99 86 54]\n",
            " [ 5 55 55 24 65 24 35 34 27 70]\n",
            " [43 38 17 87 95 31 86 70 32 29]\n",
            " [87 35 82 50 83 32 27 25 29 73]\n",
            " [ 2 30 67 79 97 53 42 81 99 75]\n",
            " [49 58 47 53 72 27 98 83 82 31]\n",
            " [ 1 33 69  6 11 23 96 60 66 63]\n",
            " [24 73 73 25  9 23  8 49  2  7]\n",
            " [97 35 14 65 53 60 94 73 47 44]\n",
            " [57 76 25 35 81 66  1  1 29 31]]\n"
          ],
          "name": "stdout"
        }
      ]
    },
    {
      "cell_type": "code",
      "metadata": {
        "colab": {
          "base_uri": "https://localhost:8080/"
        },
        "id": "2Q3GrF6ii7pK",
        "outputId": "27ba4de1-b7f1-45b1-977c-b52791b082c2"
      },
      "source": [
        "#min\n",
        "print(a.min())\n",
        "\n",
        "#max\n",
        "print(a.max())"
      ],
      "execution_count": 25,
      "outputs": [
        {
          "output_type": "stream",
          "text": [
            "1\n",
            "99\n"
          ],
          "name": "stdout"
        }
      ]
    },
    {
      "cell_type": "markdown",
      "metadata": {
        "id": "A7z9pkDfjHRS"
      },
      "source": [
        "### 13.Create a random vector of size 30 and find the mean value\n"
      ]
    },
    {
      "cell_type": "code",
      "metadata": {
        "colab": {
          "base_uri": "https://localhost:8080/"
        },
        "id": "3xJFhNRhjEbK",
        "outputId": "9b0fb3d5-97c6-4b9f-ee5d-c7586c64b2c2"
      },
      "source": [
        "a = np.random.randint(300,size=30)\n",
        "print(a)"
      ],
      "execution_count": 27,
      "outputs": [
        {
          "output_type": "stream",
          "text": [
            "[211 149 136 263  86 277 130 103 294 147   8  53 256 242  25 176 276 196\n",
            " 193  98 144  36 189 137 135 149 201 243  15  90]\n"
          ],
          "name": "stdout"
        }
      ]
    },
    {
      "cell_type": "code",
      "metadata": {
        "colab": {
          "base_uri": "https://localhost:8080/"
        },
        "id": "z_o178aGjXk2",
        "outputId": "16e3ce2f-ccc8-4fba-c383-44f0a3dba91a"
      },
      "source": [
        "#mean\n",
        "print(a.mean())"
      ],
      "execution_count": 28,
      "outputs": [
        {
          "output_type": "stream",
          "text": [
            "155.26666666666668\n"
          ],
          "name": "stdout"
        }
      ]
    },
    {
      "cell_type": "markdown",
      "metadata": {
        "id": "NswJ3rmyjh36"
      },
      "source": [
        "### 14.Create a 2d array with 1 on the border and 0 inside"
      ]
    },
    {
      "cell_type": "code",
      "metadata": {
        "colab": {
          "base_uri": "https://localhost:8080/"
        },
        "id": "VMxzYp15jg3H",
        "outputId": "6ad92ed0-6d0b-4c01-d0cd-4c1fc38010a2"
      },
      "source": [
        "x = np.ones((5,5),dtype=int)\n",
        "print(\"Original array:\")\n",
        "print(x)"
      ],
      "execution_count": 30,
      "outputs": [
        {
          "output_type": "stream",
          "text": [
            "Original array:\n",
            "[[1 1 1 1 1]\n",
            " [1 1 1 1 1]\n",
            " [1 1 1 1 1]\n",
            " [1 1 1 1 1]\n",
            " [1 1 1 1 1]]\n"
          ],
          "name": "stdout"
        }
      ]
    },
    {
      "cell_type": "code",
      "metadata": {
        "colab": {
          "base_uri": "https://localhost:8080/"
        },
        "id": "j6JzWf8UkBKg",
        "outputId": "e3664415-5079-4111-f806-b0c4705c4e0f"
      },
      "source": [
        "x[1:-1,1:-1]=0\n",
        "print(x)"
      ],
      "execution_count": 31,
      "outputs": [
        {
          "output_type": "stream",
          "text": [
            "[[1 1 1 1 1]\n",
            " [1 0 0 0 1]\n",
            " [1 0 0 0 1]\n",
            " [1 0 0 0 1]\n",
            " [1 1 1 1 1]]\n"
          ],
          "name": "stdout"
        }
      ]
    },
    {
      "cell_type": "markdown",
      "metadata": {
        "id": "RVtnw1pkkRZb"
      },
      "source": [
        "### 15.How to add a border (filled with 0's) around an existing array? "
      ]
    },
    {
      "cell_type": "code",
      "metadata": {
        "colab": {
          "base_uri": "https://localhost:8080/"
        },
        "id": "Y9X8vF01kLUy",
        "outputId": "05e85a58-1635-4107-a7b3-e20ff3ec6377"
      },
      "source": [
        "#using pad attribute\n",
        "a = np.ones((5,5),dtype=int)\n",
        "print(a)"
      ],
      "execution_count": 36,
      "outputs": [
        {
          "output_type": "stream",
          "text": [
            "[[1 1 1 1 1]\n",
            " [1 1 1 1 1]\n",
            " [1 1 1 1 1]\n",
            " [1 1 1 1 1]\n",
            " [1 1 1 1 1]]\n"
          ],
          "name": "stdout"
        }
      ]
    },
    {
      "cell_type": "code",
      "metadata": {
        "colab": {
          "base_uri": "https://localhost:8080/"
        },
        "id": "ksCfvb72kq_i",
        "outputId": "9491c707-2ffb-4863-be0f-5567aa8da7f1"
      },
      "source": [
        "print(a.shape)\n",
        "a = np.pad(a,pad_width=1,mode='constant',constant_values=0)\n",
        "print(a)\n",
        "print(a.shape)"
      ],
      "execution_count": 37,
      "outputs": [
        {
          "output_type": "stream",
          "text": [
            "(5, 5)\n",
            "[[0 0 0 0 0 0 0]\n",
            " [0 1 1 1 1 1 0]\n",
            " [0 1 1 1 1 1 0]\n",
            " [0 1 1 1 1 1 0]\n",
            " [0 1 1 1 1 1 0]\n",
            " [0 1 1 1 1 1 0]\n",
            " [0 0 0 0 0 0 0]]\n",
            "(7, 7)\n"
          ],
          "name": "stdout"
        }
      ]
    },
    {
      "cell_type": "markdown",
      "metadata": {
        "id": "aVQDikxolSNX"
      },
      "source": [
        "### How to Accessing/Changing specific elements, rows, columns, etc in Numpy array?\n",
        "\n",
        "Example -\n",
        "[[ 1 2 3 4 5 6 7] [ 8 9 10 11 12 13 14]]\n",
        "\n",
        "Get 13\n",
        "get first row only\n",
        "get 3rd column only\n",
        "get [2, 4, 6]\n",
        "replace 13 by 20"
      ]
    },
    {
      "cell_type": "code",
      "metadata": {
        "colab": {
          "base_uri": "https://localhost:8080/"
        },
        "id": "Fqr5R4TVk_8I",
        "outputId": "35d5ae3c-5c6f-4e17-e0a4-408b3c38df2c"
      },
      "source": [
        "a = np.array([[ 1 ,2 ,3, 4, 5, 6 ,7],[ 8, 9, 10, 11, 12, 13, 14]])\n",
        "print(a)\n",
        "print(a.ndim)"
      ],
      "execution_count": 40,
      "outputs": [
        {
          "output_type": "stream",
          "text": [
            "[[ 1  2  3  4  5  6  7]\n",
            " [ 8  9 10 11 12 13 14]]\n",
            "2\n"
          ],
          "name": "stdout"
        }
      ]
    },
    {
      "cell_type": "code",
      "metadata": {
        "colab": {
          "base_uri": "https://localhost:8080/"
        },
        "id": "HoVNMW9elo79",
        "outputId": "34ab9fd5-011b-4d64-a3f2-65f96f7a2787"
      },
      "source": [
        "a[1,5]"
      ],
      "execution_count": 42,
      "outputs": [
        {
          "output_type": "execute_result",
          "data": {
            "text/plain": [
              "13"
            ]
          },
          "metadata": {
            "tags": []
          },
          "execution_count": 42
        }
      ]
    },
    {
      "cell_type": "code",
      "metadata": {
        "colab": {
          "base_uri": "https://localhost:8080/"
        },
        "id": "Mp8tl0V4l4Ut",
        "outputId": "994ad38b-0237-4f14-8d17-6be0b8bc2058"
      },
      "source": [
        "print(a[0])"
      ],
      "execution_count": 46,
      "outputs": [
        {
          "output_type": "stream",
          "text": [
            "[1 2 3 4 5 6 7]\n"
          ],
          "name": "stdout"
        }
      ]
    },
    {
      "cell_type": "code",
      "metadata": {
        "colab": {
          "base_uri": "https://localhost:8080/"
        },
        "id": "M23bLC2kl97q",
        "outputId": "a6256264-3d2d-486a-f51b-8f707c789c8e"
      },
      "source": [
        "print(a[:,2])"
      ],
      "execution_count": 48,
      "outputs": [
        {
          "output_type": "stream",
          "text": [
            "[ 3 10]\n"
          ],
          "name": "stdout"
        }
      ]
    },
    {
      "cell_type": "code",
      "metadata": {
        "colab": {
          "base_uri": "https://localhost:8080/"
        },
        "id": "tCxwN8BKmMsM",
        "outputId": "6a7a1eee-2df0-4ce5-d5c5-f87a826eddb5"
      },
      "source": [
        "print(a[:-1,1::2])"
      ],
      "execution_count": 50,
      "outputs": [
        {
          "output_type": "stream",
          "text": [
            "[[2 4 6]]\n"
          ],
          "name": "stdout"
        }
      ]
    },
    {
      "cell_type": "code",
      "metadata": {
        "colab": {
          "base_uri": "https://localhost:8080/"
        },
        "id": "BogGcspTmaEm",
        "outputId": "3149085a-e758-4874-d074-cb9f05fbcd33"
      },
      "source": [
        "a[1,5]=20\n",
        "print(a)"
      ],
      "execution_count": 51,
      "outputs": [
        {
          "output_type": "stream",
          "text": [
            "[[ 1  2  3  4  5  6  7]\n",
            " [ 8  9 10 11 12 20 14]]\n"
          ],
          "name": "stdout"
        }
      ]
    },
    {
      "cell_type": "markdown",
      "metadata": {
        "id": "EASOZGcUmhjj"
      },
      "source": [
        "### 17.How to Convert a 1D array to a 2D array with 2 rows"
      ]
    },
    {
      "cell_type": "code",
      "metadata": {
        "colab": {
          "base_uri": "https://localhost:8080/"
        },
        "id": "FY4dXTlAmfz1",
        "outputId": "f8db4914-5521-48db-ecf4-4e1f767c93eb"
      },
      "source": [
        "arr = np.array([0, 1, 2, 3, 4, 5, 6, 7, 8, 9])\n",
        "# Convert 1D array to a 2D numpy array of 2 rows and 3 columns\n",
        "arr_2d = np.reshape(arr, (2, 5))\n",
        "print(arr_2d)"
      ],
      "execution_count": 52,
      "outputs": [
        {
          "output_type": "stream",
          "text": [
            "[[0 1 2 3 4]\n",
            " [5 6 7 8 9]]\n"
          ],
          "name": "stdout"
        }
      ]
    },
    {
      "cell_type": "markdown",
      "metadata": {
        "id": "TjMnte69m5kd"
      },
      "source": [
        "### 18.Create the following pattern without hardcoding. Use only numpy functions and the below input array a.\n",
        "\n",
        "Input:\n",
        "\n",
        "a = np.array([1,2,3])`\n",
        "Desired Output:\n",
        "\n",
        "### array([1, 1, 1, 2, 2, 2, 3, 3, 3, 1, 2, 3, 1, 2, 3, 1, 2, 3])"
      ]
    },
    {
      "cell_type": "code",
      "metadata": {
        "colab": {
          "base_uri": "https://localhost:8080/"
        },
        "id": "cNLLpMnVqcy6",
        "outputId": "7b6eaa00-3d83-4892-e00b-1f542ade3873"
      },
      "source": [
        "a = np.array([1,2,3])\n",
        "print(\"output\")\n",
        "a=np.r_[np.repeat(a,3),np.tile(a,3)]\n",
        "print(a)"
      ],
      "execution_count": 61,
      "outputs": [
        {
          "output_type": "stream",
          "text": [
            "output\n",
            "[1 1 1 2 2 2 3 3 3 1 2 3 1 2 3 1 2 3]\n"
          ],
          "name": "stdout"
        }
      ]
    },
    {
      "cell_type": "markdown",
      "metadata": {
        "id": "PBgBOXbpoYoo"
      },
      "source": [
        "### 19.Write a program to show how Numpy taking less memory compared to Python List?\n",
        "\n"
      ]
    },
    {
      "cell_type": "code",
      "metadata": {
        "colab": {
          "base_uri": "https://localhost:8080/"
        },
        "id": "xQ1tx-TJndtn",
        "outputId": "7135836e-c84a-463b-86ee-5d933f503238"
      },
      "source": [
        "import sys\n",
        "print(\"memory usage in list\")\n",
        "l = range(1000)\n",
        "print(l)\n",
        "print(sys.getsizeof(l[0]))\n",
        "print(sys.getsizeof(l))\n",
        "print(\"memory usage in numpy\")\n",
        "a = np.arange(1000)\n",
        "print(a.size)\n",
        "print(a.itemsize)\n",
        "print(a.size*a.itemsize)"
      ],
      "execution_count": 59,
      "outputs": [
        {
          "output_type": "stream",
          "text": [
            "memory usage in list\n",
            "range(0, 1000)\n",
            "24\n",
            "48\n",
            "memory usage in numpy\n",
            "1000\n",
            "8\n",
            "8000\n"
          ],
          "name": "stdout"
        }
      ]
    },
    {
      "cell_type": "markdown",
      "metadata": {
        "id": "s8uYWpfcob_f"
      },
      "source": [
        "### 20.Write a program to show how Numpy taking less time compared to Python List?"
      ]
    },
    {
      "cell_type": "code",
      "metadata": {
        "colab": {
          "base_uri": "https://localhost:8080/"
        },
        "id": "BER6rCijouGT",
        "outputId": "7126c9b7-7b14-457f-cc7b-fc6519611000"
      },
      "source": [
        "import time\n",
        "print('in list')\n",
        "l=range(1000000)\n",
        "l1=range(1000000)\n",
        "start = time.time()\n",
        "result = [(x+y) for x,y in zip(l,l1)]\n",
        "print((time.time()-start)*1000)"
      ],
      "execution_count": 56,
      "outputs": [
        {
          "output_type": "stream",
          "text": [
            "in list\n",
            "129.9753189086914\n"
          ],
          "name": "stdout"
        }
      ]
    },
    {
      "cell_type": "code",
      "metadata": {
        "colab": {
          "base_uri": "https://localhost:8080/"
        },
        "id": "QqcU43odog_1",
        "outputId": "c4ec2bea-36d6-4def-c890-8dd6453b1574"
      },
      "source": [
        "print('in numpy')\n",
        "n1 = np.arange(1000000)\n",
        "n2 = np.arange(1000000)\n",
        "start=time.time()\n",
        "result1=n1+n2\n",
        "print((time.time()-start)*1000)"
      ],
      "execution_count": 57,
      "outputs": [
        {
          "output_type": "stream",
          "text": [
            "in numpy\n",
            "4.190683364868164\n"
          ],
          "name": "stdout"
        }
      ]
    },
    {
      "cell_type": "code",
      "metadata": {
        "id": "7OEHCL0lpFV9"
      },
      "source": [
        ""
      ],
      "execution_count": null,
      "outputs": []
    }
  ]
}