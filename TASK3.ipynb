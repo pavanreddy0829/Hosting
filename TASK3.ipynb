{
  "nbformat": 4,
  "nbformat_minor": 0,
  "metadata": {
    "colab": {
      "name": "TASK3.ipynb",
      "provenance": [],
      "authorship_tag": "ABX9TyMdTtfxGOqqpu8BIxJsKgDS",
      "include_colab_link": true
    },
    "kernelspec": {
      "name": "python3",
      "display_name": "Python 3"
    },
    "language_info": {
      "name": "python"
    }
  },
  "cells": [
    {
      "cell_type": "markdown",
      "metadata": {
        "id": "view-in-github",
        "colab_type": "text"
      },
      "source": [
        "<a href=\"https://colab.research.google.com/github/pavanreddy0829/Hosting/blob/main/TASK3.ipynb\" target=\"_parent\"><img src=\"https://colab.research.google.com/assets/colab-badge.svg\" alt=\"Open In Colab\"/></a>"
      ]
    },
    {
      "cell_type": "markdown",
      "metadata": {
        "id": "zL9_K2cwKoAX"
      },
      "source": [
        "### Q.1 Write a Python Program to sort (ascending and descending) a dictionary by value.\n"
      ]
    },
    {
      "cell_type": "code",
      "metadata": {
        "colab": {
          "base_uri": "https://localhost:8080/"
        },
        "id": "jRDnKYilJqz4",
        "outputId": "22f0a174-19de-45f5-9edc-928eff1486bb"
      },
      "source": [
        "import operator  \n",
        "d = {1: 2, 3: 4, 4: 3, 2: 1, 0: 0}  \n",
        "print('Original dictionary : ',d)  \n",
        "sorted_d = sorted(d.items(), key=operator.itemgetter(0))  \n",
        "print('Dictionary in ascending order by value : ',sorted_d)  \n",
        "sorted_d = sorted(d.items(), key=operator.itemgetter(0),reverse=True)  \n",
        "print('Dictionary in descending order by value : ',sorted_d)  "
      ],
      "execution_count": 1,
      "outputs": [
        {
          "output_type": "stream",
          "text": [
            "Original dictionary :  {1: 2, 3: 4, 4: 3, 2: 1, 0: 0}\n",
            "Dictionary in ascending order by value :  [(0, 0), (1, 2), (2, 1), (3, 4), (4, 3)]\n",
            "Dictionary in descending order by value :  [(4, 3), (3, 4), (2, 1), (1, 2), (0, 0)]\n"
          ],
          "name": "stdout"
        }
      ]
    },
    {
      "cell_type": "markdown",
      "metadata": {
        "id": "xq4B0P2sQYbT"
      },
      "source": [
        "### Q.2 Write a Python Program to add a key to a dictionary. \n",
        "\n",
        "Sample Dictionary : {0: 10, 1: 20}\n",
        "Expected Result : {0: 10, 1: 20, 2: 30}"
      ]
    },
    {
      "cell_type": "code",
      "metadata": {
        "colab": {
          "base_uri": "https://localhost:8080/"
        },
        "id": "NmEOu7CROz1B",
        "outputId": "a9e9277d-2921-41b3-88a8-69b19e34c8e7"
      },
      "source": [
        "d={1:1,2:4}\n",
        "print(d)\n",
        "d[3]=9\n",
        "print(d)"
      ],
      "execution_count": 2,
      "outputs": [
        {
          "output_type": "stream",
          "text": [
            "{1: 1, 2: 4}\n",
            "{1: 1, 2: 4, 3: 9}\n"
          ],
          "name": "stdout"
        }
      ]
    },
    {
      "cell_type": "markdown",
      "metadata": {
        "id": "qdLAKSn0Q7Ot"
      },
      "source": [
        "### Q.3 Write a  program asks for City name and Temperature and builds a dictionary using that Later on you can input City name and it will tell you the Temperature of that City."
      ]
    },
    {
      "cell_type": "code",
      "metadata": {
        "colab": {
          "base_uri": "https://localhost:8080/"
        },
        "id": "X4DAmnnPUo8r",
        "outputId": "e73691bd-329a-437d-e72d-2fe99978137e"
      },
      "source": [
        "s=int(input(\"Enter number of cities to enter\"))\n",
        "d={}\n",
        "for i in range(s):\n",
        "  city=input(\"Enter city name\")\n",
        "  temperature=int(input(\"Enter city temperature\"))\n",
        "  d[city]=temperature\n",
        "print(d)\n",
        "s=input(\"Enter any city name to know current temperature\")\n",
        "if s in d.keys():\n",
        "  print(d[s])\n",
        "else:\n",
        "  print(\"enter valid city name\")"
      ],
      "execution_count": 7,
      "outputs": [
        {
          "output_type": "stream",
          "text": [
            "Enter number of cities to enter4\n",
            "Enter city namemumbai\n",
            "Enter city temperature42\n",
            "Enter city namekolkata\n",
            "Enter city temperature40\n",
            "Enter city namepune\n",
            "Enter city temperature35\n",
            "Enter city namebihar\n",
            "Enter city temperature45\n",
            "{'mumbai': 42, 'kolkata': 40, 'pune': 35, 'bihar': 45}\n",
            "Enter any city name to know current temperaturepune\n",
            "35\n"
          ],
          "name": "stdout"
        }
      ]
    },
    {
      "cell_type": "markdown",
      "metadata": {
        "id": "pi8nKZcvcQ3h"
      },
      "source": [
        "### Q. 4 Write a Python program to convert list to list of dictionaries.\n",
        "\n",
        "Sample lists: [\"Black\", \"Red\", \"Maroon\", \"Yellow\"], [\"#000000\", \"#FF0000\", \"#800000\", \"#FFFF00\"]\n",
        "\n",
        "Expected Output: [{'color_name': 'Black', 'color_code': '#000000'}, {'color_name': 'Red', 'color_code': '#FF0000'}, {'color_name': 'Maroon', 'color_code': '#800000'}, {'color_name': 'Yellow', 'color_code': '#FFFF00'}]"
      ]
    },
    {
      "cell_type": "code",
      "metadata": {
        "colab": {
          "base_uri": "https://localhost:8080/"
        },
        "id": "h3d-kvl7VwJe",
        "outputId": "1bcf772a-cc59-47e8-c911-09e8e080726b"
      },
      "source": [
        "l=[\"Black\", \"Red\", \"Maroon\", \"Yellow\"]\n",
        "c=[\"#000000\", \"#FF0000\", \"#800000\", \"#FFFF00\"]\n",
        "ans=[]\n",
        "for i,j in zip(l,c):\n",
        "  d={'color_name': None,'color_code':None}\n",
        "  d['color_name']=i\n",
        "  d['color_code']=j\n",
        "  ans.append(d)\n",
        "for i in ans:\n",
        "  print(i)"
      ],
      "execution_count": 10,
      "outputs": [
        {
          "output_type": "stream",
          "text": [
            "{'color_name': 'Black', 'color_code': '#000000'}\n",
            "{'color_name': 'Red', 'color_code': '#FF0000'}\n",
            "{'color_name': 'Maroon', 'color_code': '#800000'}\n",
            "{'color_name': 'Yellow', 'color_code': '#FFFF00'}\n"
          ],
          "name": "stdout"
        }
      ]
    },
    {
      "cell_type": "markdown",
      "metadata": {
        "id": "l2oIrBJCdRcn"
      },
      "source": [
        "Using above create a dictionary of Employees and their Salary\n",
        "Write a program that asks user for three type of inputs,\n",
        "print: if user enter print then it should print all Employees with their Salary in this format,\n",
        "1.John ==>14\n",
        "2.Smith ==>13\n",
        "3.Alice ==>32\n",
        " Daneil ==>21\n",
        "add: if user input adds then it should further ask for an Employee name to add. If Employee already exists in our dataset then it should print that it exists and do nothing. If it doesn't then it asks for Salary and add that new Employee/Salary in our dictionary and print it\n",
        "remove: when user inputs remove it should ask for an Employee to remove. If an Employee exists in our dictionary then remove it and print a new dictionary using format shown above in (a). Else print that Employee doesn't exist!\n",
        "query: on this again ask the user for which Employee he or she wants to query. When a user inputs that Employee it will print the Salary of that Employee."
      ]
    },
    {
      "cell_type": "code",
      "metadata": {
        "colab": {
          "base_uri": "https://localhost:8080/"
        },
        "id": "brbLpG0idPkI",
        "outputId": "e64009c4-1f6a-471e-ab61-33eddae697c9"
      },
      "source": [
        "employe = {'john':14,'smith': 13,'alice':32,'dinel':21}\n",
        "print(employe)"
      ],
      "execution_count": 12,
      "outputs": [
        {
          "output_type": "stream",
          "text": [
            "{'john': 14, 'smith': 13, 'alice': 32, 'dinel': 21}\n"
          ],
          "name": "stdout"
        }
      ]
    },
    {
      "cell_type": "code",
      "metadata": {
        "colab": {
          "base_uri": "https://localhost:8080/"
        },
        "id": "KrkIuiPmeM_a",
        "outputId": "a8e336e2-b393-4ed6-fea1-c52a164d2d52"
      },
      "source": [
        "print(\"Employee details and details\")\n",
        "print('type print for employee detials')\n",
        "print('type add to add any employee details')\n",
        "print('type remove to remove any employee details')\n",
        "print('type query to again query the employee details')\n",
        "flag=1\n",
        "while(flag):\n",
        "  s=input().lower()\n",
        "  if(s=='print'):\n",
        "    print(d)\n",
        "    flag=0\n",
        "  elif(s=='add'):\n",
        "    name = input(\"enter employee name\")\n",
        "    salary=int(input(\"enter salary\"))\n",
        "    d[name]=salary\n",
        "    print(d)\n",
        "    flag=0\n",
        "  elif(s=='remove'):\n",
        "    name=input(\"enter employee name to remove\")\n",
        "    if name in d.keys():\n",
        "      d.pop(name)\n",
        "      print(d)\n",
        "    else:\n",
        "      print(\"enter valid name\")\n",
        "    flag=0\n",
        "  elif(s=='query'):\n",
        "    print(\"query again\")\n",
        "  else:\n",
        "    pass"
      ],
      "execution_count": 20,
      "outputs": [
        {
          "output_type": "stream",
          "text": [
            "Employee details and details\n",
            "type print for employee detials\n",
            "type add to add any employee details\n",
            "type remove to remove any employee details\n",
            "type query to again query the employee details\n",
            "query\n",
            "query again\n",
            "print\n",
            "{'color_name': 'Yellow', 'color_code': '#FFFF00', 'pavesh': 12000}\n"
          ],
          "name": "stdout"
        }
      ]
    },
    {
      "cell_type": "markdown",
      "metadata": {
        "id": "E2kIHNFEh2f_"
      },
      "source": [
        "###  Q.1 What is the difference between a set and a frozenset? Create any set and try to use frozenset(setname)."
      ]
    },
    {
      "cell_type": "code",
      "metadata": {
        "colab": {
          "base_uri": "https://localhost:8080/"
        },
        "id": "0TAqBVKBey5P",
        "outputId": "d6851c4a-7f69-4fbc-cd4c-34e59bf543f9"
      },
      "source": [
        "#main difference is set is mutable whereas frozen set is immutable\n",
        "s=set([1,2,3,4])\n",
        "print(s)"
      ],
      "execution_count": 23,
      "outputs": [
        {
          "output_type": "stream",
          "text": [
            "{1, 2, 3, 4}\n"
          ],
          "name": "stdout"
        }
      ]
    },
    {
      "cell_type": "code",
      "metadata": {
        "colab": {
          "base_uri": "https://localhost:8080/"
        },
        "id": "FEldsHUBiLlN",
        "outputId": "5ac4bde3-8715-4b15-f55f-fa797156aadf"
      },
      "source": [
        "Set = frozenset([1,2,3,4,5])   \n",
        "\n",
        "print(type(Set))  \n",
        "\n",
        "for i in Set:  \n",
        "\n",
        "    print(i); "
      ],
      "execution_count": 24,
      "outputs": [
        {
          "output_type": "stream",
          "text": [
            "<class 'frozenset'>\n",
            "1\n",
            "2\n",
            "3\n",
            "4\n",
            "5\n"
          ],
          "name": "stdout"
        }
      ]
    },
    {
      "cell_type": "code",
      "metadata": {
        "colab": {
          "base_uri": "https://localhost:8080/",
          "height": 162
        },
        "id": "rzCfjtdoimXA",
        "outputId": "20a56f9d-484a-44e3-df33-3681575f707c"
      },
      "source": [
        "Set.discard(3) #Gives a error since we cannot change an element in frozenset"
      ],
      "execution_count": 25,
      "outputs": [
        {
          "output_type": "error",
          "ename": "AttributeError",
          "evalue": "ignored",
          "traceback": [
            "\u001b[0;31m---------------------------------------------------------------------------\u001b[0m",
            "\u001b[0;31mAttributeError\u001b[0m                            Traceback (most recent call last)",
            "\u001b[0;32m<ipython-input-25-08bfad25dd77>\u001b[0m in \u001b[0;36m<module>\u001b[0;34m()\u001b[0m\n\u001b[0;32m----> 1\u001b[0;31m \u001b[0mSet\u001b[0m\u001b[0;34m.\u001b[0m\u001b[0mdiscard\u001b[0m\u001b[0;34m(\u001b[0m\u001b[0;36m3\u001b[0m\u001b[0;34m)\u001b[0m \u001b[0;31m#Gives a error since we cannot change an element in frozenset\u001b[0m\u001b[0;34m\u001b[0m\u001b[0;34m\u001b[0m\u001b[0m\n\u001b[0m",
            "\u001b[0;31mAttributeError\u001b[0m: 'frozenset' object has no attribute 'discard'"
          ]
        }
      ]
    },
    {
      "cell_type": "markdown",
      "metadata": {
        "id": "cbN3v8IPjGai"
      },
      "source": [
        "Q.2 Find the elements in a given set that are not in another set\n",
        "\n",
        "    set1 = {10,20,30,40,50}\n",
        "\n",
        "    set2 = {40,50,60,70,80}\n",
        "\n",
        " Difference between set1 and set2 is {10,20,30}"
      ]
    },
    {
      "cell_type": "code",
      "metadata": {
        "colab": {
          "base_uri": "https://localhost:8080/"
        },
        "id": "YzOKBR3RjA9B",
        "outputId": "c33aaf31-9ae3-4680-a0da-453f31cbf7e4"
      },
      "source": [
        "set1 = {10,20,30,40,50}\n",
        " \n",
        "set2 = {40,50,60,70,80}\n",
        "\n",
        "print(set1-set2)"
      ],
      "execution_count": 26,
      "outputs": [
        {
          "output_type": "stream",
          "text": [
            "{10, 20, 30}\n"
          ],
          "name": "stdout"
        }
      ]
    },
    {
      "cell_type": "code",
      "metadata": {
        "id": "h6WBNzurjT_b"
      },
      "source": [
        ""
      ],
      "execution_count": null,
      "outputs": []
    }
  ]
}